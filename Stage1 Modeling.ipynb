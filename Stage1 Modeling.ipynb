{
 "cells": [
  {
   "cell_type": "markdown",
   "metadata": {},
   "source": [
    "\n",
    "#### Stage 1\n",
    "\n",
    "In this stage, we are trying to predict whether the customer will buy in their current session or not. "
   ]
  },
  {
   "cell_type": "code",
   "execution_count": 1,
   "metadata": {},
   "outputs": [],
   "source": [
    "#import libraries\n",
    "import pandas as pd\n",
    "import numpy as np\n",
    "import seaborn as sns\n",
    "import statsmodels.api as sm\n",
    "import matplotlib.pyplot as plt\n",
    "#features selection and class imbalance\n",
    "from sklearn.feature_selection import RFE, VarianceThreshold\n",
    "from sklearn.kernel_approximation import RBFSampler\n",
    "from sklearn.preprocessing import StandardScaler\n",
    "from sklearn.kernel_approximation import PolynomialCountSketch\n",
    "from sklearn.pipeline import Pipeline, make_pipeline\n",
    "from imblearn.over_sampling import SMOTE\n",
    "#machine learning models\n",
    "from sklearn.linear_model import LogisticRegression\n",
    "from xgboost import XGBClassifier\n",
    "from sklearn.linear_model import SGDClassifier\n",
    "from sklearn.svm import LinearSVC\n",
    "from sklearn.neural_network import MLPClassifier\n",
    "from sklearn.ensemble import RandomForestClassifier\n",
    "from catboost import CatBoostClassifier\n",
    "from lightgbm import LGBMClassifier\n",
    "from sklearn.ensemble import StackingClassifier\n",
    "#model performance evaluation\n",
    "from sklearn.model_selection import train_test_split, GridSearchCV, RepeatedStratifiedKFold, cross_val_score\n",
    "from sklearn.metrics import ConfusionMatrixDisplay, roc_auc_score, roc_curve, confusion_matrix\n",
    "from sklearn.metrics import classification_report, accuracy_score"
   ]
  },
  {
   "cell_type": "code",
   "execution_count": 2,
   "metadata": {},
   "outputs": [],
   "source": [
    "train = pd.read_csv('final_session_level_train.csv')\n",
    "test = pd.read_csv('final_session_level_test.csv')"
   ]
  },
  {
   "cell_type": "code",
   "execution_count": 3,
   "metadata": {},
   "outputs": [
    {
     "data": {
      "text/html": [
       "<div>\n",
       "<style scoped>\n",
       "    .dataframe tbody tr th:only-of-type {\n",
       "        vertical-align: middle;\n",
       "    }\n",
       "\n",
       "    .dataframe tbody tr th {\n",
       "        vertical-align: top;\n",
       "    }\n",
       "\n",
       "    .dataframe thead th {\n",
       "        text-align: right;\n",
       "    }\n",
       "</style>\n",
       "<table border=\"1\" class=\"dataframe\">\n",
       "  <thead>\n",
       "    <tr style=\"text-align: right;\">\n",
       "      <th></th>\n",
       "      <th>Unnamed: 0</th>\n",
       "      <th>Session ID</th>\n",
       "      <th>num_clicks_session</th>\n",
       "      <th>buy_flag</th>\n",
       "      <th>session_length</th>\n",
       "      <th>Avg_time_bet_clicks</th>\n",
       "      <th>Max_time_bet_clicks</th>\n",
       "      <th>unique_items</th>\n",
       "      <th>max_click_per_item</th>\n",
       "      <th>max_hour</th>\n",
       "      <th>max_day</th>\n",
       "      <th>max_month</th>\n",
       "      <th>Avg_item_price</th>\n",
       "      <th>Popularity</th>\n",
       "      <th>perc_prod_offer</th>\n",
       "      <th>perc_prod_no_cat</th>\n",
       "      <th>perc_prod_pop</th>\n",
       "    </tr>\n",
       "  </thead>\n",
       "  <tbody>\n",
       "    <tr>\n",
       "      <th>0</th>\n",
       "      <td>0</td>\n",
       "      <td>1</td>\n",
       "      <td>4</td>\n",
       "      <td>False</td>\n",
       "      <td>351.0</td>\n",
       "      <td>116.666667</td>\n",
       "      <td>180.0</td>\n",
       "      <td>4</td>\n",
       "      <td>1</td>\n",
       "      <td>10</td>\n",
       "      <td>0</td>\n",
       "      <td>4</td>\n",
       "      <td>2669.000000</td>\n",
       "      <td>0.020006</td>\n",
       "      <td>0.0</td>\n",
       "      <td>1.0</td>\n",
       "      <td>0.500000</td>\n",
       "    </tr>\n",
       "    <tr>\n",
       "      <th>1</th>\n",
       "      <td>1</td>\n",
       "      <td>2</td>\n",
       "      <td>6</td>\n",
       "      <td>False</td>\n",
       "      <td>359.0</td>\n",
       "      <td>71.400000</td>\n",
       "      <td>118.0</td>\n",
       "      <td>5</td>\n",
       "      <td>2</td>\n",
       "      <td>14</td>\n",
       "      <td>0</td>\n",
       "      <td>4</td>\n",
       "      <td>2382.333333</td>\n",
       "      <td>0.006365</td>\n",
       "      <td>0.0</td>\n",
       "      <td>1.0</td>\n",
       "      <td>0.800000</td>\n",
       "    </tr>\n",
       "    <tr>\n",
       "      <th>2</th>\n",
       "      <td>2</td>\n",
       "      <td>3</td>\n",
       "      <td>3</td>\n",
       "      <td>False</td>\n",
       "      <td>745.0</td>\n",
       "      <td>372.000000</td>\n",
       "      <td>495.0</td>\n",
       "      <td>3</td>\n",
       "      <td>1</td>\n",
       "      <td>13</td>\n",
       "      <td>2</td>\n",
       "      <td>4</td>\n",
       "      <td>4701.595023</td>\n",
       "      <td>0.026714</td>\n",
       "      <td>0.0</td>\n",
       "      <td>1.0</td>\n",
       "      <td>0.000000</td>\n",
       "    </tr>\n",
       "    <tr>\n",
       "      <th>3</th>\n",
       "      <td>3</td>\n",
       "      <td>4</td>\n",
       "      <td>2</td>\n",
       "      <td>False</td>\n",
       "      <td>1034.0</td>\n",
       "      <td>1034.000000</td>\n",
       "      <td>1034.0</td>\n",
       "      <td>2</td>\n",
       "      <td>1</td>\n",
       "      <td>12</td>\n",
       "      <td>0</td>\n",
       "      <td>4</td>\n",
       "      <td>20315.500000</td>\n",
       "      <td>0.006692</td>\n",
       "      <td>0.0</td>\n",
       "      <td>1.0</td>\n",
       "      <td>0.500000</td>\n",
       "    </tr>\n",
       "    <tr>\n",
       "      <th>4</th>\n",
       "      <td>4</td>\n",
       "      <td>6</td>\n",
       "      <td>2</td>\n",
       "      <td>False</td>\n",
       "      <td>246.0</td>\n",
       "      <td>246.000000</td>\n",
       "      <td>246.0</td>\n",
       "      <td>2</td>\n",
       "      <td>1</td>\n",
       "      <td>17</td>\n",
       "      <td>6</td>\n",
       "      <td>4</td>\n",
       "      <td>6336.696891</td>\n",
       "      <td>0.025385</td>\n",
       "      <td>0.0</td>\n",
       "      <td>1.0</td>\n",
       "      <td>0.000000</td>\n",
       "    </tr>\n",
       "    <tr>\n",
       "      <th>5</th>\n",
       "      <td>5</td>\n",
       "      <td>7</td>\n",
       "      <td>2</td>\n",
       "      <td>False</td>\n",
       "      <td>12.0</td>\n",
       "      <td>12.000000</td>\n",
       "      <td>12.0</td>\n",
       "      <td>2</td>\n",
       "      <td>1</td>\n",
       "      <td>6</td>\n",
       "      <td>2</td>\n",
       "      <td>4</td>\n",
       "      <td>1206.662927</td>\n",
       "      <td>0.078417</td>\n",
       "      <td>0.0</td>\n",
       "      <td>1.0</td>\n",
       "      <td>0.000000</td>\n",
       "    </tr>\n",
       "    <tr>\n",
       "      <th>6</th>\n",
       "      <td>6</td>\n",
       "      <td>8</td>\n",
       "      <td>2</td>\n",
       "      <td>False</td>\n",
       "      <td>133.0</td>\n",
       "      <td>133.000000</td>\n",
       "      <td>133.0</td>\n",
       "      <td>1</td>\n",
       "      <td>2</td>\n",
       "      <td>8</td>\n",
       "      <td>6</td>\n",
       "      <td>4</td>\n",
       "      <td>2303.000000</td>\n",
       "      <td>0.120482</td>\n",
       "      <td>0.0</td>\n",
       "      <td>1.0</td>\n",
       "      <td>0.000000</td>\n",
       "    </tr>\n",
       "    <tr>\n",
       "      <th>7</th>\n",
       "      <td>7</td>\n",
       "      <td>9</td>\n",
       "      <td>3</td>\n",
       "      <td>False</td>\n",
       "      <td>169.0</td>\n",
       "      <td>84.000000</td>\n",
       "      <td>150.0</td>\n",
       "      <td>1</td>\n",
       "      <td>3</td>\n",
       "      <td>11</td>\n",
       "      <td>6</td>\n",
       "      <td>4</td>\n",
       "      <td>1674.000000</td>\n",
       "      <td>0.023930</td>\n",
       "      <td>0.0</td>\n",
       "      <td>1.0</td>\n",
       "      <td>0.000000</td>\n",
       "    </tr>\n",
       "    <tr>\n",
       "      <th>8</th>\n",
       "      <td>8</td>\n",
       "      <td>11</td>\n",
       "      <td>12</td>\n",
       "      <td>True</td>\n",
       "      <td>783.0</td>\n",
       "      <td>71.000000</td>\n",
       "      <td>385.0</td>\n",
       "      <td>9</td>\n",
       "      <td>3</td>\n",
       "      <td>10</td>\n",
       "      <td>3</td>\n",
       "      <td>4</td>\n",
       "      <td>990.447912</td>\n",
       "      <td>0.021625</td>\n",
       "      <td>0.0</td>\n",
       "      <td>1.0</td>\n",
       "      <td>0.333333</td>\n",
       "    </tr>\n",
       "    <tr>\n",
       "      <th>9</th>\n",
       "      <td>9</td>\n",
       "      <td>12</td>\n",
       "      <td>2</td>\n",
       "      <td>True</td>\n",
       "      <td>179.0</td>\n",
       "      <td>179.000000</td>\n",
       "      <td>179.0</td>\n",
       "      <td>1</td>\n",
       "      <td>2</td>\n",
       "      <td>10</td>\n",
       "      <td>2</td>\n",
       "      <td>4</td>\n",
       "      <td>1749.868852</td>\n",
       "      <td>0.022427</td>\n",
       "      <td>0.0</td>\n",
       "      <td>1.0</td>\n",
       "      <td>0.000000</td>\n",
       "    </tr>\n",
       "  </tbody>\n",
       "</table>\n",
       "</div>"
      ],
      "text/plain": [
       "   Unnamed: 0  Session ID  num_clicks_session  buy_flag  session_length  \\\n",
       "0           0           1                   4     False           351.0   \n",
       "1           1           2                   6     False           359.0   \n",
       "2           2           3                   3     False           745.0   \n",
       "3           3           4                   2     False          1034.0   \n",
       "4           4           6                   2     False           246.0   \n",
       "5           5           7                   2     False            12.0   \n",
       "6           6           8                   2     False           133.0   \n",
       "7           7           9                   3     False           169.0   \n",
       "8           8          11                  12      True           783.0   \n",
       "9           9          12                   2      True           179.0   \n",
       "\n",
       "   Avg_time_bet_clicks  Max_time_bet_clicks  unique_items  max_click_per_item  \\\n",
       "0           116.666667                180.0             4                   1   \n",
       "1            71.400000                118.0             5                   2   \n",
       "2           372.000000                495.0             3                   1   \n",
       "3          1034.000000               1034.0             2                   1   \n",
       "4           246.000000                246.0             2                   1   \n",
       "5            12.000000                 12.0             2                   1   \n",
       "6           133.000000                133.0             1                   2   \n",
       "7            84.000000                150.0             1                   3   \n",
       "8            71.000000                385.0             9                   3   \n",
       "9           179.000000                179.0             1                   2   \n",
       "\n",
       "   max_hour  max_day  max_month  Avg_item_price  Popularity  perc_prod_offer  \\\n",
       "0        10        0          4     2669.000000    0.020006              0.0   \n",
       "1        14        0          4     2382.333333    0.006365              0.0   \n",
       "2        13        2          4     4701.595023    0.026714              0.0   \n",
       "3        12        0          4    20315.500000    0.006692              0.0   \n",
       "4        17        6          4     6336.696891    0.025385              0.0   \n",
       "5         6        2          4     1206.662927    0.078417              0.0   \n",
       "6         8        6          4     2303.000000    0.120482              0.0   \n",
       "7        11        6          4     1674.000000    0.023930              0.0   \n",
       "8        10        3          4      990.447912    0.021625              0.0   \n",
       "9        10        2          4     1749.868852    0.022427              0.0   \n",
       "\n",
       "   perc_prod_no_cat  perc_prod_pop  \n",
       "0               1.0       0.500000  \n",
       "1               1.0       0.800000  \n",
       "2               1.0       0.000000  \n",
       "3               1.0       0.500000  \n",
       "4               1.0       0.000000  \n",
       "5               1.0       0.000000  \n",
       "6               1.0       0.000000  \n",
       "7               1.0       0.000000  \n",
       "8               1.0       0.333333  \n",
       "9               1.0       0.000000  "
      ]
     },
     "execution_count": 3,
     "metadata": {},
     "output_type": "execute_result"
    }
   ],
   "source": [
    "train.head(10)"
   ]
  },
  {
   "cell_type": "markdown",
   "metadata": {},
   "source": [
    "When inspecting the dataset, we observed that we need to transform the buy_flag feature to numerical values before running our model. We also dropped columns that will not be needed later on. "
   ]
  },
  {
   "cell_type": "code",
   "execution_count": 4,
   "metadata": {},
   "outputs": [],
   "source": [
    "#preprocessing data\n",
    "buy = pd.get_dummies(train['buy_flag'], drop_first=True) \n",
    "train = pd.concat([train, buy], axis=1)\n",
    "train.columns = [*train.columns[:-1], 'Buy']\n",
    "\n",
    "buy = pd.get_dummies(test['buy_flag'], drop_first=True) \n",
    "test = pd.concat([test, buy], axis=1)\n",
    "test.columns = [*test.columns[:-1], 'Buy']\n",
    "\n",
    "rmv_col = ['buy_flag', 'Unnamed: 0', 'Session ID']\n",
    "train = train.drop(rmv_col, axis=1)\n",
    "test = test.drop(rmv_col, axis=1)"
   ]
  },
  {
   "cell_type": "markdown",
   "metadata": {},
   "source": [
    "## Full Dataset"
   ]
  },
  {
   "cell_type": "markdown",
   "metadata": {},
   "source": [
    "As observed below, our data is highly imbalanced, with 95% of data classified as class 0 and 5% of data classified as class 1. We will need to address this when running our model, either by specifying in the parameters or performing different sampling techniques, such as over-sampling or under-sampling to balance the data."
   ]
  },
  {
   "cell_type": "code",
   "execution_count": 5,
   "metadata": {},
   "outputs": [
    {
     "data": {
      "text/plain": [
       "<matplotlib.axes._subplots.AxesSubplot at 0x1d7f01f77c0>"
      ]
     },
     "execution_count": 5,
     "metadata": {},
     "output_type": "execute_result"
    },
    {
     "data": {
      "image/png": "[encoded data removed]",
      "text/plain": [
       "<Figure size 432x288 with 1 Axes>"
      ]
     },
     "metadata": {
      "needs_background": "light"
     },
     "output_type": "display_data"
    }
   ],
   "source": [
    "sns.countplot(x = 'Buy', data=train)"
   ]
  },
  {
   "cell_type": "markdown",
   "metadata": {},
   "source": [
    "Here, we will split the full dataset into training and testing set. "
   ]
  },
  {
   "cell_type": "code",
   "execution_count": 6,
   "metadata": {},
   "outputs": [],
   "source": [
    "X_train = train.drop(\"Buy\", axis=1)\n",
    "y_train = train[\"Buy\"]\n",
    "\n",
    "X_test = test.drop(\"Buy\", axis=1)\n",
    "y_test = test[\"Buy\"] "
   ]
  },
  {
   "cell_type": "markdown",
   "metadata": {},
   "source": [
    "We will compare the performances of 8 different models: Logistic Regression, XGBoost, Support Vector Machine (SVM), Neural Networks, CatBoost, Light GBM, and Stack Generalizer on the sample dataset. On the full dataset, we will implement Logistic Regression, XGBoost, CatBoost, and SVM. "
   ]
  },
  {
   "cell_type": "markdown",
   "metadata": {},
   "source": [
    "### 1. Logistic Regression"
   ]
  },
  {
   "cell_type": "markdown",
   "metadata": {},
   "source": [
    "Here, we will train the Logistic Regression model on the entire dataset."
   ]
  },
  {
   "cell_type": "code",
   "execution_count": 7,
   "metadata": {},
   "outputs": [
    {
     "name": "stderr",
     "output_type": "stream",
     "text": [
      "/Users/lilyn199/opt/anaconda3/lib/python3.8/site-packages/sklearn/utils/validation.py:70: FutureWarning: Pass n_features_to_select=20 as keyword args. From version 1.0 (renaming of 0.25) passing these as positional arguments will result in an error\n",
      "  warnings.warn(f\"Pass {args_msg} as keyword args. From version \"\n"
     ]
    },
    {
     "name": "stdout",
     "output_type": "stream",
     "text": [
      "[ True  True  True  True  True  True  True  True  True  True  True  True\n",
      "  True  True]\n",
      "[1 1 1 1 1 1 1 1 1 1 1 1 1 1]\n"
     ]
    },
    {
     "name": "stderr",
     "output_type": "stream",
     "text": [
      "/Users/lilyn199/opt/anaconda3/lib/python3.8/site-packages/sklearn/linear_model/_logistic.py:763: ConvergenceWarning: lbfgs failed to converge (status=1):\n",
      "STOP: TOTAL NO. of ITERATIONS REACHED LIMIT.\n",
      "\n",
      "Increase the number of iterations (max_iter) or scale the data as shown in:\n",
      "    https://scikit-learn.org/stable/modules/preprocessing.html\n",
      "Please also refer to the documentation for alternative solver options:\n",
      "    https://scikit-learn.org/stable/modules/linear_model.html#logistic-regression\n",
      "  n_iter_i = _check_optimize_result(\n"
     ]
    }
   ],
   "source": [
    "logreg = LogisticRegression()\n",
    "rfe = RFE(logreg, 20)\n",
    "rfe = rfe.fit(X_train, y_train.values.ravel())\n",
    "print(rfe.support_)\n",
    "print(rfe.ranking_)"
   ]
  },
  {
   "cell_type": "code",
   "execution_count": 8,
   "metadata": {
    "scrolled": true
   },
   "outputs": [
    {
     "name": "stderr",
     "output_type": "stream",
     "text": [
      "/Users/lilyn199/opt/anaconda3/lib/python3.8/site-packages/statsmodels/discrete/discrete_model.py:1747: RuntimeWarning: overflow encountered in exp\n",
      "  return 1/(1+np.exp(-X))\n",
      "/Users/lilyn199/opt/anaconda3/lib/python3.8/site-packages/statsmodels/discrete/discrete_model.py:1800: RuntimeWarning: divide by zero encountered in log\n",
      "  return np.sum(np.log(self.cdf(q*np.dot(X,params))))\n"
     ]
    },
    {
     "name": "stdout",
     "output_type": "stream",
     "text": [
      "Optimization terminated successfully.\n",
      "         Current function value: inf\n",
      "         Iterations 8\n"
     ]
    },
    {
     "name": "stderr",
     "output_type": "stream",
     "text": [
      "/Users/lilyn199/opt/anaconda3/lib/python3.8/site-packages/statsmodels/base/model.py:547: HessianInversionWarning: Inverting hessian failed, no bse or cov_params available\n",
      "  warn('Inverting hessian failed, no bse or cov_params '\n",
      "/Users/lilyn199/opt/anaconda3/lib/python3.8/site-packages/statsmodels/base/model.py:547: HessianInversionWarning: Inverting hessian failed, no bse or cov_params available\n",
      "  warn('Inverting hessian failed, no bse or cov_params '\n"
     ]
    },
    {
     "name": "stdout",
     "output_type": "stream",
     "text": [
      "                           Results: Logit\n",
      "=====================================================================\n",
      "Model:                  Logit              Pseudo R-squared:   inf   \n",
      "Dependent Variable:     Buy                AIC:                inf   \n",
      "Date:                   2021-06-09 17:38   BIC:                inf   \n",
      "No. Observations:       7710267            Log-Likelihood:     -inf  \n",
      "Df Model:               13                 LL-Null:            0.0000\n",
      "Df Residuals:           7710253            LLR p-value:        1.0000\n",
      "Converged:              1.0000             Scale:              1.0000\n",
      "No. Iterations:         8.0000                                       \n",
      "---------------------------------------------------------------------\n",
      "                     Coef.  Std.Err.     z     P>|z|   [0.025  0.975]\n",
      "---------------------------------------------------------------------\n",
      "num_clicks_session   0.0617   0.0014   43.0761 0.0000  0.0589  0.0645\n",
      "session_length       0.0001   0.0000   34.5262 0.0000  0.0001  0.0001\n",
      "Avg_time_bet_clicks  0.0001   0.0000    7.9507 0.0000  0.0000  0.0001\n",
      "Max_time_bet_clicks  0.0002   0.0000   23.9144 0.0000  0.0002  0.0002\n",
      "unique_items         0.0024   0.0016    1.4789 0.1392 -0.0008  0.0057\n",
      "max_click_per_item   0.2708   0.0024  111.8103 0.0000  0.2660  0.2755\n",
      "max_hour            -0.0217   0.0003  -69.1351 0.0000 -0.0223 -0.0211\n",
      "max_day              0.0372   0.0008   49.5423 0.0000  0.0357  0.0387\n",
      "max_month           -0.4864   0.0010 -483.7047 0.0000 -0.4884 -0.4845\n",
      "Avg_item_price      -0.0000   0.0000  -17.1287 0.0000 -0.0000 -0.0000\n",
      "Popularity          13.5708   0.0466  291.4130 0.0000 13.4796 13.6621\n",
      "perc_prod_offer     -0.6014   0.0055 -108.5867 0.0000 -0.6123 -0.5906\n",
      "perc_prod_no_cat    -1.6353   0.0042 -388.6373 0.0000 -1.6435 -1.6270\n",
      "perc_prod_pop       -1.5209   0.0102 -149.7589 0.0000 -1.5408 -1.5009\n",
      "=====================================================================\n",
      "\n"
     ]
    }
   ],
   "source": [
    "logit_model = sm.Logit(y_train,X_train)\n",
    "result = logit_model.fit()\n",
    "print(result.summary2())"
   ]
  },
  {
   "cell_type": "markdown",
   "metadata": {},
   "source": [
    "As unique_items has a p-value greater than 0.05, which indicates that this feature is not significant, we will drop it from our dataset."
   ]
  },
  {
   "cell_type": "code",
   "execution_count": 9,
   "metadata": {},
   "outputs": [],
   "source": [
    "X_train = X_train.drop(\"unique_items\", axis=1)\n",
    "X_test= X_test.drop(\"unique_items\", axis=1)"
   ]
  },
  {
   "cell_type": "markdown",
   "metadata": {},
   "source": [
    "We apply SMOTE to handle class imbalance before training our model. "
   ]
  },
  {
   "cell_type": "code",
   "execution_count": 10,
   "metadata": {},
   "outputs": [
    {
     "name": "stdout",
     "output_type": "stream",
     "text": [
      "length of oversampled data is  14563364\n",
      "Number of no default in oversampled data 7281682\n",
      "Number of default 7281682\n",
      "Proportion of no default data in oversampled data is  0.5\n",
      "Proportion of default data in oversampled data is  0.5\n"
     ]
    }
   ],
   "source": [
    "os = SMOTE(random_state = 42, n_jobs=-1)\n",
    "columns = X_train.columns\n",
    "\n",
    "os_data_X, os_data_y = os.fit_resample(X_train, y_train)\n",
    "os_data_X = pd.DataFrame(data = os_data_X,columns = columns)\n",
    "os_data_y = pd.DataFrame(data = os_data_y,columns = ['Buy'])\n",
    "\n",
    "print(\"length of oversampled data is \",len(os_data_X))\n",
    "print(\"Number of no default in oversampled data\",len(os_data_y[os_data_y['Buy'] == 0]))\n",
    "print(\"Number of default\",len(os_data_y[os_data_y['Buy'] == 1]))\n",
    "print(\"Proportion of no default data in oversampled data is \",len(os_data_y[os_data_y['Buy'] == 0])/len(os_data_X))\n",
    "print(\"Proportion of default data in oversampled data is \",len(os_data_y[os_data_y['Buy'] == 1])/len(os_data_X))"
   ]
  },
  {
   "cell_type": "code",
   "execution_count": 11,
   "metadata": {},
   "outputs": [
    {
     "name": "stderr",
     "output_type": "stream",
     "text": [
      "/Users/lilyn199/opt/anaconda3/lib/python3.8/site-packages/sklearn/utils/validation.py:63: DataConversionWarning: A column-vector y was passed when a 1d array was expected. Please change the shape of y to (n_samples, ), for example using ravel().\n",
      "  return f(*args, **kwargs)\n",
      "/Users/lilyn199/opt/anaconda3/lib/python3.8/site-packages/sklearn/linear_model/_logistic.py:763: ConvergenceWarning: lbfgs failed to converge (status=1):\n",
      "STOP: TOTAL NO. of ITERATIONS REACHED LIMIT.\n",
      "\n",
      "Increase the number of iterations (max_iter) or scale the data as shown in:\n",
      "    https://scikit-learn.org/stable/modules/preprocessing.html\n",
      "Please also refer to the documentation for alternative solver options:\n",
      "    https://scikit-learn.org/stable/modules/linear_model.html#logistic-regression\n",
      "  n_iter_i = _check_optimize_result(\n"
     ]
    },
    {
     "data": {
      "text/plain": [
       "LogisticRegression()"
      ]
     },
     "execution_count": 11,
     "metadata": {},
     "output_type": "execute_result"
    }
   ],
   "source": [
    "logreg = LogisticRegression()\n",
    "logreg.fit(os_data_X, os_data_y)"
   ]
  },
  {
   "cell_type": "code",
   "execution_count": 12,
   "metadata": {},
   "outputs": [],
   "source": [
    "y_pred = logreg.predict(X_test)"
   ]
  },
  {
   "cell_type": "markdown",
   "metadata": {},
   "source": [
    "We generate the ROC Curve to find the optimal threshold where our model will achieve highest performance."
   ]
  },
  {
   "cell_type": "code",
   "execution_count": 14,
   "metadata": {},
   "outputs": [
    {
     "data": {
      "image/png": "[encoded data removed]",
      "text/plain": [
       "<Figure size 432x288 with 1 Axes>"
      ]
     },
     "metadata": {
      "needs_background": "light"
     },
     "output_type": "display_data"
    }
   ],
   "source": [
    "logit_roc_auc = roc_auc_score(y_test, logreg.predict(X_test))\n",
    "fpr, tpr, thresholds = roc_curve(y_test, logreg.predict_proba(X_test)[:,1])\n",
    "plt.figure()\n",
    "plt.plot(fpr, tpr, label='Logistic Regression (area = %0.2f)' % logit_roc_auc)\n",
    "plt.plot([0, 1], [0, 1],'r--')\n",
    "plt.xlim([0.0, 1.0])\n",
    "plt.ylim([0.0, 1.05])\n",
    "plt.xlabel('False Positive Rate')\n",
    "plt.ylabel('True Positive Rate')\n",
    "plt.title('Receiver operating characteristic')\n",
    "plt.legend(loc=\"lower right\")\n",
    "plt.show()"
   ]
  },
  {
   "cell_type": "code",
   "execution_count": 15,
   "metadata": {},
   "outputs": [
    {
     "name": "stdout",
     "output_type": "stream",
     "text": [
      "Threshold value is: 0.38466641164306037\n"
     ]
    }
   ],
   "source": [
    "optimal_idx = np.argmax(tpr - fpr)\n",
    "optimal_threshold = thresholds[optimal_idx]\n",
    "print(\"Threshold value is:\", optimal_threshold)"
   ]
  },
  {
   "cell_type": "code",
   "execution_count": 16,
   "metadata": {},
   "outputs": [
    {
     "data": {
      "text/plain": [
       "(1028696, 429655, 26610, 54501)"
      ]
     },
     "execution_count": 16,
     "metadata": {},
     "output_type": "execute_result"
    }
   ],
   "source": [
    "THRESHOLD = optimal_threshold\n",
    "preds = np.where(logreg.predict_proba(X_test)[:,1] > THRESHOLD, 1, 0)\n",
    "\n",
    "tn, fp, fn, tp = confusion_matrix(y_test, preds).ravel()\n",
    "(tn, fp, fn, tp)"
   ]
  },
  {
   "cell_type": "code",
   "execution_count": 17,
   "metadata": {},
   "outputs": [
    {
     "name": "stdout",
     "output_type": "stream",
     "text": [
      "              precision    recall  f1-score   support\n",
      "\n",
      "           0       0.97      0.71      0.82   1458351\n",
      "           1       0.11      0.67      0.19     81111\n",
      "\n",
      "    accuracy                           0.70   1539462\n",
      "   macro avg       0.54      0.69      0.51   1539462\n",
      "weighted avg       0.93      0.70      0.79   1539462\n",
      "\n"
     ]
    }
   ],
   "source": [
    "print(classification_report(y_test, preds))"
   ]
  },
  {
   "cell_type": "markdown",
   "metadata": {},
   "source": [
    "### 2. XGBoost"
   ]
  },
  {
   "cell_type": "markdown",
   "metadata": {},
   "source": [
    "Here, we applied XGBoost to the full dataset. Ideally, we would want to tune the following parameters: \n",
    "1. *n_estimators*: number of estimators when boosting is terminated. \n",
    "2. *max_depth*: maximum depth of a tree. Higher value can make the tree overfit\n",
    "3. *gamma*: minimum loss reduction required to make partition on a leaf node of the tree. the higher value of gamma, the more conservative the algorithm will be\n",
    "\n",
    "However, since *GridSearchCV* performs exhaustive search over specified parameter values, it will take hours, if not days, for it to finish tuning our parameters given our laptop are not of the professionals. Therefore, in the interest of time, we will specify these parameters manually. Below is the codes for which we will use to tune our parameters."
   ]
  },
  {
   "cell_type": "code",
   "execution_count": null,
   "metadata": {},
   "outputs": [],
   "source": [
    "## XGB - number of estimators\n",
    "param_test = {'n_estimators': range(50, 500, 50)}\n",
    "gsearch1 = GridSearchCV(estimator = XGBClassifier(objective='binary:logistic', scale_pos_weight = 18, learning_rate=0.2, \n",
    "                                                  use_label_encoder =False, eval_metric = 'auc'), \n",
    "                        param_grid = param_test, scoring='roc_auc', n_jobs=-1, cv=5)\n",
    "gsearch1.fit(X_train, y_train)\n",
    "gsearch1.best_params_"
   ]
  },
  {
   "cell_type": "code",
   "execution_count": null,
   "metadata": {},
   "outputs": [],
   "source": [
    "## XGB - maximum tree depth\n",
    "param_test2 = {'max_depth':range(1,10,2)}\n",
    "gsearch2 = GridSearchCV(estimator = XGBClassifier(objective='binary:logistic', scale_pos_weight = 18,\n",
    "                                                  n_estimators = gsearch1.best_params_['n_estimators'], \n",
    "                                                  learning_rate = 0.2, use_label_encoder =False, eval_metric = 'auc'), \n",
    "                        param_grid = param_test2, scoring='roc_auc', n_jobs=-1, cv=5)\n",
    "\n",
    "gsearch2.fit(X_train, y_train)\n",
    "gsearch2.best_params_"
   ]
  },
  {
   "cell_type": "code",
   "execution_count": null,
   "metadata": {},
   "outputs": [],
   "source": [
    "#tuning gamma parameter\n",
    "param_test3 = {'gamma': [i/10.0 for i in range(0,5)]} \n",
    "gsearch3 = GridSearchCV(estimator = XGBClassifier(objective='binary:logistic', scale_pos_weight = 18,\n",
    "                                                  n_estimators = gsearch1.best_params_['n_estimators'], \n",
    "                                                  learning_rate = 0.2, use_label_encoder =False, eval_metric = 'auc',\n",
    "                                                  max_depth = gsearch2.best_params_['max_depth']), \n",
    "                        param_grid = param_test3, scoring='roc_auc', n_jobs=-1, cv=5)\n",
    "\n",
    "gsearch3.fit(X_train, y_train)\n",
    "gsearch3.best_params_"
   ]
  },
  {
   "cell_type": "code",
   "execution_count": null,
   "metadata": {},
   "outputs": [],
   "source": [
    "## Tuned model\n",
    "XGB_model = XGBClassifier(objective='binary:logistic', scale_pos_weight = 18, n_estimators = gsearch1.best_params_, \n",
    "                          max_depth = gsearch2.best_params_, gamma = gsearch3.best_params_, \n",
    "                          scale_pos_weight = 17, n_jobs=-1, learning_rate = 0.2, \n",
    "                          #we need to account for imbalance class ratio 1:17.98 using scale_pos_weight\n",
    "                          use_label_encoder =False, eval_metric = 'auc')\n",
    "\n",
    "XGB_model.fit(X_train, y_train)\n",
    "XGB_model_predict = XGB_model.predict(X_test)\n",
    "XGB_model"
   ]
  },
  {
   "cell_type": "markdown",
   "metadata": {},
   "source": [
    "We will then specify the parameters manually: \n",
    "1. *n_estimators*: 50 as a value that would work well given the power of our system\n",
    "2. *max_depth*: as the default is 6 and increasing this value will make the model more complex and overfit, we will go with 7\n",
    "3. *gamma*: the default value is 0 and increasing it will make the algorithm more conservative. Thus, we want to start at a smaller value like 0.1 and can alter it later on if required\n",
    "4. *scale_pos_weight*: since the ratio between class 0 and 1 is 18, we will specify this value for this parameter"
   ]
  },
  {
   "cell_type": "code",
   "execution_count": 67,
   "metadata": {},
   "outputs": [],
   "source": [
    "#full dataset split\n",
    "X_train = train.drop(\"Buy\", axis=1)\n",
    "y_train = train[\"Buy\"]\n",
    "\n",
    "X_test = test.drop(\"Buy\", axis=1)\n",
    "y_test = test[\"Buy\"] "
   ]
  },
  {
   "cell_type": "code",
   "execution_count": 68,
   "metadata": {},
   "outputs": [
    {
     "data": {
      "text/plain": [
       "XGBClassifier(alpha=0.1, base_score=0.5, booster='gbtree', colsample_bylevel=1,\n",
       "              colsample_bynode=1, colsample_bytree=1, eval_metric='auc',\n",
       "              gamma=0, gpu_id=-1, importance_type='gain',\n",
       "              interaction_constraints='', learning_rate=1, max_delta_step=0,\n",
       "              max_depth=6, min_child_weight=1, missing=nan,\n",
       "              monotone_constraints='()', n_estimators=50, n_jobs=-1,\n",
       "              num_parallel_tree=1, random_state=0, reg_alpha=0.100000001,\n",
       "              reg_lambda=1, scale_pos_weight=18, subsample=1,\n",
       "              tree_method='approx', use_label_encoder=False,\n",
       "              validate_parameters=1, verbosity=None)"
      ]
     },
     "execution_count": 68,
     "metadata": {},
     "output_type": "execute_result"
    }
   ],
   "source": [
    "## Tuned model\n",
    "XGB_model = XGBClassifier(objective='binary:logistic', n_estimators = 50, \n",
    "                          scale_pos_weight = 18, n_jobs=-1, learning_rate = 1, alpha = 0.1,\n",
    "                          #we need to account for imbalance class ratio 1:17.98 using scale_pos_weight\n",
    "                          use_label_encoder =False, eval_metric = 'auc')\n",
    "\n",
    "XGB_model.fit(X_train, y_train)\n",
    "XGB_model_predict = XGB_model.predict(X_test)\n",
    "XGB_model"
   ]
  },
  {
   "cell_type": "code",
   "execution_count": 69,
   "metadata": {},
   "outputs": [
    {
     "name": "stdout",
     "output_type": "stream",
     "text": [
      "XGB Test Accuracy: 0.9217427906632317 \n",
      "\n",
      "              precision    recall  f1-score   support\n",
      "\n",
      "           0       0.95      0.96      0.96   1458351\n",
      "           1       0.20      0.16      0.18     81111\n",
      "\n",
      "    accuracy                           0.92   1539462\n",
      "   macro avg       0.58      0.56      0.57   1539462\n",
      "weighted avg       0.91      0.92      0.92   1539462\n",
      "\n",
      "[[1405785   52566]\n",
      " [  67908   13203]] \n",
      "\n"
     ]
    }
   ],
   "source": [
    "print('XGB Test Accuracy:', accuracy_score(y_test, XGB_model_predict), '\\n')\n",
    "print(classification_report(y_test, XGB_model_predict))\n",
    "print(confusion_matrix(y_test, XGB_model_predict), '\\n')"
   ]
  },
  {
   "cell_type": "markdown",
   "metadata": {},
   "source": [
    "Observing the results above, our parameters will need further tuning to be able to classify class 1 better. We chose to add a booster called 'gblinear', which uses linear functions instead of the default 'gbtree', which uses tree based model. We chose linear functions since logistic regression and SVM, which are both linear classifiers, seem to work well on this dataset. "
   ]
  },
  {
   "cell_type": "code",
   "execution_count": 70,
   "metadata": {},
   "outputs": [
    {
     "data": {
      "text/plain": [
       "XGBClassifier(alpha=0.1, base_score=0.5, booster='gblinear',\n",
       "              colsample_bylevel=None, colsample_bynode=None,\n",
       "              colsample_bytree=None, eval_metric='auc', gamma=None, gpu_id=-1,\n",
       "              importance_type='gain', interaction_constraints=None,\n",
       "              learning_rate=1, max_delta_step=None, max_depth=None,\n",
       "              min_child_weight=None, missing=nan, monotone_constraints=None,\n",
       "              n_estimators=50, n_jobs=-1, num_parallel_tree=None,\n",
       "              random_state=0, reg_alpha=0, reg_lambda=0, scale_pos_weight=18,\n",
       "              subsample=None, tree_method=None, use_label_encoder=False,\n",
       "              validate_parameters=1, verbosity=None)"
      ]
     },
     "execution_count": 70,
     "metadata": {},
     "output_type": "execute_result"
    }
   ],
   "source": [
    "## Tuned model\n",
    "XGB_model = XGBClassifier(objective='binary:logistic', n_estimators = 50, booster = 'gblinear',\n",
    "                          scale_pos_weight = 18, n_jobs=-1, learning_rate = 1, alpha = 0.1,\n",
    "                          #we need to account for imbalance class ratio 1:17.98 using scale_pos_weight\n",
    "                          use_label_encoder =False, eval_metric = 'auc')\n",
    "\n",
    "XGB_model.fit(X_train, y_train)\n",
    "XGB_model_predict = XGB_model.predict(X_test)\n",
    "XGB_model"
   ]
  },
  {
   "cell_type": "code",
   "execution_count": 71,
   "metadata": {},
   "outputs": [
    {
     "name": "stdout",
     "output_type": "stream",
     "text": [
      "XGB Test Accuracy: 0.7437695766443082 \n",
      "\n",
      "              precision    recall  f1-score   support\n",
      "\n",
      "           0       0.97      0.75      0.85   1458351\n",
      "           1       0.13      0.64      0.21     81111\n",
      "\n",
      "    accuracy                           0.74   1539462\n",
      "   macro avg       0.55      0.70      0.53   1539462\n",
      "weighted avg       0.93      0.74      0.81   1539462\n",
      "\n",
      "[[1092744  365607]\n",
      " [  28850   52261]] \n",
      "\n"
     ]
    }
   ],
   "source": [
    "print('XGB Test Accuracy:', accuracy_score(y_test, XGB_model_predict), '\\n')\n",
    "print(classification_report(y_test, XGB_model_predict))\n",
    "print(confusion_matrix(y_test, XGB_model_predict), '\\n')"
   ]
  },
  {
   "cell_type": "markdown",
   "metadata": {},
   "source": [
    "### 3. CatBoost"
   ]
  },
  {
   "cell_type": "markdown",
   "metadata": {},
   "source": [
    "Here, we applied CatBoost to the full dataset. "
   ]
  },
  {
   "cell_type": "code",
   "execution_count": 22,
   "metadata": {},
   "outputs": [],
   "source": [
    "#full dataset split\n",
    "X_train = train.drop(\"Buy\", axis=1)\n",
    "y_train = train[\"Buy\"]\n",
    "\n",
    "X_test = test.drop(\"Buy\", axis=1)\n",
    "y_test = test[\"Buy\"] "
   ]
  },
  {
   "cell_type": "markdown",
   "metadata": {},
   "source": [
    "Similar to our reasoning for XGBoost above, we will manually specify the parameters for this model:\n",
    "1. *iterations*: 50 as a good value for our computer performance\n",
    "2. *class_weights*: given the ratio between class 0 and 1 at 1:18, we will specify this in our model"
   ]
  },
  {
   "cell_type": "code",
   "execution_count": 23,
   "metadata": {
    "collapsed": true
   },
   "outputs": [
    {
     "name": "stdout",
     "output_type": "stream",
     "text": [
      "0:\ttotal: 862ms\tremaining: 42.3s\n",
      "1:\ttotal: 1.58s\tremaining: 37.8s\n",
      "2:\ttotal: 2.28s\tremaining: 35.7s\n",
      "3:\ttotal: 3s\tremaining: 34.4s\n",
      "4:\ttotal: 3.74s\tremaining: 33.7s\n",
      "5:\ttotal: 4.47s\tremaining: 32.8s\n",
      "6:\ttotal: 5.14s\tremaining: 31.6s\n",
      "7:\ttotal: 5.87s\tremaining: 30.8s\n",
      "8:\ttotal: 6.56s\tremaining: 29.9s\n",
      "9:\ttotal: 7.18s\tremaining: 28.7s\n",
      "10:\ttotal: 7.82s\tremaining: 27.7s\n",
      "11:\ttotal: 8.48s\tremaining: 26.9s\n",
      "12:\ttotal: 9.15s\tremaining: 26s\n",
      "13:\ttotal: 10.1s\tremaining: 25.9s\n",
      "14:\ttotal: 11.1s\tremaining: 25.9s\n",
      "15:\ttotal: 12.2s\tremaining: 25.8s\n",
      "16:\ttotal: 13.2s\tremaining: 25.6s\n",
      "17:\ttotal: 14s\tremaining: 24.9s\n",
      "18:\ttotal: 14.9s\tremaining: 24.3s\n",
      "19:\ttotal: 15.8s\tremaining: 23.6s\n",
      "20:\ttotal: 16.7s\tremaining: 23s\n",
      "21:\ttotal: 17.7s\tremaining: 22.5s\n",
      "22:\ttotal: 18.7s\tremaining: 21.9s\n",
      "23:\ttotal: 19.8s\tremaining: 21.5s\n",
      "24:\ttotal: 20.8s\tremaining: 20.8s\n",
      "25:\ttotal: 21.8s\tremaining: 20.1s\n",
      "26:\ttotal: 22.6s\tremaining: 19.2s\n",
      "27:\ttotal: 23.3s\tremaining: 18.3s\n",
      "28:\ttotal: 24.1s\tremaining: 17.5s\n",
      "29:\ttotal: 24.9s\tremaining: 16.6s\n",
      "30:\ttotal: 25.7s\tremaining: 15.7s\n",
      "31:\ttotal: 26.6s\tremaining: 14.9s\n",
      "32:\ttotal: 27.3s\tremaining: 14.1s\n",
      "33:\ttotal: 28.1s\tremaining: 13.2s\n",
      "34:\ttotal: 28.9s\tremaining: 12.4s\n",
      "35:\ttotal: 29.8s\tremaining: 11.6s\n",
      "36:\ttotal: 30.7s\tremaining: 10.8s\n",
      "37:\ttotal: 31.6s\tremaining: 9.99s\n",
      "38:\ttotal: 32.6s\tremaining: 9.21s\n",
      "39:\ttotal: 33.6s\tremaining: 8.39s\n",
      "40:\ttotal: 34.6s\tremaining: 7.59s\n",
      "41:\ttotal: 35.6s\tremaining: 6.78s\n",
      "42:\ttotal: 36.5s\tremaining: 5.94s\n",
      "43:\ttotal: 37.5s\tremaining: 5.12s\n",
      "44:\ttotal: 38.4s\tremaining: 4.27s\n",
      "45:\ttotal: 39.3s\tremaining: 3.42s\n",
      "46:\ttotal: 40s\tremaining: 2.55s\n",
      "47:\ttotal: 40.9s\tremaining: 1.71s\n",
      "48:\ttotal: 41.7s\tremaining: 851ms\n",
      "49:\ttotal: 42.4s\tremaining: 0us\n"
     ]
    }
   ],
   "source": [
    "ctb = CatBoostClassifier(eval_metric='AUC', learning_rate = 0.2, class_weights={0: 1, 1: 18}, iterations=50)\n",
    "ctb.fit(X_train, y_train)\n",
    "y_pred = ctb.predict(X_test)"
   ]
  },
  {
   "cell_type": "code",
   "execution_count": 25,
   "metadata": {},
   "outputs": [
    {
     "name": "stdout",
     "output_type": "stream",
     "text": [
      "{'nan_mode': 'Min', 'eval_metric': 'AUC', 'iterations': 50, 'sampling_frequency': 'PerTree', 'leaf_estimation_method': 'Newton', 'grow_policy': 'SymmetricTree', 'penalties_coefficient': 1, 'boosting_type': 'Plain', 'model_shrink_mode': 'Constant', 'feature_border_type': 'GreedyLogSum', 'bayesian_matrix_reg': 0.10000000149011612, 'l2_leaf_reg': 3, 'random_strength': 1, 'rsm': 1, 'boost_from_average': False, 'model_size_reg': 0.5, 'pool_metainfo_options': {'tags': {}}, 'subsample': 0.800000011920929, 'use_best_model': False, 'class_names': [0, 1], 'random_seed': 0, 'depth': 6, 'posterior_sampling': False, 'border_count': 254, 'class_weights': [1, 18], 'classes_count': 0, 'auto_class_weights': 'None', 'sparse_features_conflict_fraction': 0, 'leaf_estimation_backtracking': 'AnyImprovement', 'best_model_min_trees': 1, 'model_shrink_rate': 0, 'min_data_in_leaf': 1, 'loss_function': 'Logloss', 'learning_rate': 0.20000000298023224, 'score_function': 'Cosine', 'task_type': 'CPU', 'leaf_estimation_iterations': 1, 'bootstrap_type': 'MVS', 'max_leaves': 64}\n",
      "              precision    recall  f1-score   support\n",
      "\n",
      "           0       0.95      1.00      0.97   1458351\n",
      "           1       0.28      0.00      0.00     81111\n",
      "\n",
      "    accuracy                           0.95   1539462\n",
      "   macro avg       0.61      0.50      0.49   1539462\n",
      "weighted avg       0.91      0.95      0.92   1539462\n",
      " \n",
      "\n"
     ]
    }
   ],
   "source": [
    "print(ctb.get_all_params())\n",
    "print(classification_report(y_test, y_pred), '\\n')"
   ]
  },
  {
   "cell_type": "code",
   "execution_count": 26,
   "metadata": {},
   "outputs": [
    {
     "data": {
      "text/plain": [
       "(1458309, 42, 81095, 16)"
      ]
     },
     "execution_count": 26,
     "metadata": {},
     "output_type": "execute_result"
    }
   ],
   "source": [
    "tn, fp, fn, tp = confusion_matrix(y_test, y_pred).ravel()\n",
    "(tn, fp, fn, tp)"
   ]
  },
  {
   "cell_type": "markdown",
   "metadata": {},
   "source": [
    "As observed above, CatBoost does not work well in the full dataset compare to its performance in the sample dataset. Additionally, it does not allow us to specify between tree based model and linear functions. Thus, we were unable to improve on its performance. This is one of the reasons why XGBoost is so popular given its flexibility in using both linear model and tree learning algorithms.\n",
    "\n",
    "As Light GBM is a similar method to CatBoost and XGBoost, while not having the flexibility as XGBoost in specifying the linear functions. It only allows to choosing tree-based methods, such as random forest, gradient boosting decision tree, etc, as boosting types. Thus, we decided to not run it on the full dataset. "
   ]
  },
  {
   "cell_type": "markdown",
   "metadata": {},
   "source": [
    "### 4. Support Vector Machine (SVM)"
   ]
  },
  {
   "cell_type": "markdown",
   "metadata": {},
   "source": [
    "Here, we apply SVM to our full dataset. Similar to our reasoning for XGBoost and CatBoost, we will manually specify the parameters for our model:\n",
    "1. *max_iter*: the default maximum number of passes over training data is 1000. However, in the interest of time and computer limitations, we will use 100 \n",
    "2. *loss*: we used hinge as it is a loss function typically used for training classifiers\n",
    "3. *penalty*: we used l1 as our regularisation term as it might bring sparsity in our model by shrinking some feature coefficients to 0, which helps reducing its complexity while still reducing the model's variance\n",
    "4. *class_weight*: even though our actual ratio is 1:18, after testing with a few weights, we found that 1:36 gives us better performance results. This means that we need to give twice the weight from the original ratio to class 1\n",
    "5. *alpha*: given that the default is 0.0001 and the higher the value, the stronger the regularisation, we chose alpha value at 0.01 so that it will penalises more when there is a misclassification"
   ]
  },
  {
   "cell_type": "code",
   "execution_count": 19,
   "metadata": {},
   "outputs": [
    {
     "data": {
      "text/plain": [
       "SGDClassifier(alpha=0.01, class_weight={0: 1, 1: 36}, max_iter=100, n_jobs=-1,\n",
       "              penalty='l1')"
      ]
     },
     "execution_count": 19,
     "metadata": {},
     "output_type": "execute_result"
    }
   ],
   "source": [
    "scaler = StandardScaler()\n",
    "SVM_Xtrain = scaler.fit_transform(X_train)\n",
    "SVM_Xtest = scaler.transform(X_test)\n",
    "clf = SGDClassifier(loss='hinge', penalty='l1', n_jobs=-1, class_weight={0: 1, 1: 36}, max_iter=100,\n",
    "                   alpha=0.01)\n",
    "clf.fit(SVM_Xtrain, y_train)"
   ]
  },
  {
   "cell_type": "code",
   "execution_count": 20,
   "metadata": {},
   "outputs": [
    {
     "name": "stdout",
     "output_type": "stream",
     "text": [
      "              precision    recall  f1-score   support\n",
      "\n",
      "           0       0.97      0.76      0.85   1458351\n",
      "           1       0.13      0.64      0.21     81111\n",
      "\n",
      "    accuracy                           0.75   1539462\n",
      "   macro avg       0.55      0.70      0.53   1539462\n",
      "weighted avg       0.93      0.75      0.82   1539462\n",
      "\n"
     ]
    },
    {
     "data": {
      "text/plain": [
       "(1103971, 354380, 29588, 51523)"
      ]
     },
     "execution_count": 20,
     "metadata": {},
     "output_type": "execute_result"
    }
   ],
   "source": [
    "y_pred = clf.predict(SVM_Xtest)\n",
    "print(classification_report(y_test, y_pred))\n",
    "tn, fp, fn, tp = confusion_matrix(y_test, y_pred).ravel()\n",
    "(tn, fp, fn, tp)"
   ]
  },
  {
   "cell_type": "markdown",
   "metadata": {},
   "source": [
    "### Summary"
   ]
  },
  {
   "cell_type": "markdown",
   "metadata": {},
   "source": [
    "As observed above, when implementing the models to the full dataset, the performance between each varies significantly. CatBoost does terrible, while Logistic Regression, XGBoost and SVM do much better. As Logistic Regression and XGBoost have slightly better performance than SVM, we will implement these two methods in our final results and compare the scoring. "
   ]
  },
  {
   "cell_type": "markdown",
   "metadata": {},
   "source": [
    "------------------------------------------------------------------------------------------------------------------------------"
   ]
  },
  {
   "cell_type": "markdown",
   "metadata": {},
   "source": [
    "## Sample Data - Model Performance Comparison"
   ]
  },
  {
   "cell_type": "markdown",
   "metadata": {},
   "source": [
    "As we have a large dataset, we will compare model performance based on a small subset of data. In this case, we will use latest month data to run our models, make predictions, and compare performances. In this case, we will split the test_data, which also is latest 1-month data, into training set and testing set using 75:25 ratio. \n",
    "\n",
    "Here, we also observed the highly imbalanced ratio between class 0 and class 1, which helps when training the models as it mimics the issue we have observed in the full dataset."
   ]
  },
  {
   "cell_type": "code",
   "execution_count": 72,
   "metadata": {},
   "outputs": [
    {
     "data": {
      "text/plain": [
       "<matplotlib.axes._subplots.AxesSubplot at 0x1d7b4919e80>"
      ]
     },
     "execution_count": 72,
     "metadata": {},
     "output_type": "execute_result"
    },
    {
     "data": {
      "image/png": "[encoded data removed]",
      "text/plain": [
       "<Figure size 432x288 with 1 Axes>"
      ]
     },
     "metadata": {
      "needs_background": "light"
     },
     "output_type": "display_data"
    }
   ],
   "source": [
    "sns.countplot(x = 'Buy', data=test)"
   ]
  },
  {
   "cell_type": "markdown",
   "metadata": {},
   "source": [
    "### 1. Logistic Regression"
   ]
  },
  {
   "cell_type": "markdown",
   "metadata": {},
   "source": [
    "Logistic Regression is a discriminative classifier that uses a linear regression model to represent the probability through a logistic function in matrix notation: \n",
    "\\begin{equation}\n",
    "p(X) = \\frac{exp(w^Tx)}{1+exp(w^Tx)}\n",
    "\\end{equation}\n",
    "where $w^T$ represents the matrix for coefficients for each feature and x represents the observations. \n",
    "\n",
    "Logistic regression is popular machine learning method for binary classification. While simple, it gives good accuracy and has low training time. Additionally, it outputs a probability of the event being classified as class 0 or 1, which can then be adjusted using different threshold values depending on our classification purpose. For example, if the cost of misclassifying class 1 is too high, we would want to have a higher recall rate for class 1, thus we can do so by increasing the threshold value for the model to classify obsevation as class 1.  "
   ]
  },
  {
   "cell_type": "code",
   "execution_count": 18,
   "metadata": {},
   "outputs": [],
   "source": [
    "#splitting data into training and test set\n",
    "X = test.drop(\"Buy\", axis=1)\n",
    "y = test[\"Buy\"]\n",
    "X_train, X_test, y_train, y_test = train_test_split(X, y, test_size=0.25, random_state=42)"
   ]
  },
  {
   "cell_type": "markdown",
   "metadata": {},
   "source": [
    "While there are many features selection method, we use Recursive Feature Elimination method, which selects the most significant features by recursively considering smaller sets of features. The least important features are pruned from the current set of features and this process is repeated. "
   ]
  },
  {
   "cell_type": "code",
   "execution_count": 19,
   "metadata": {},
   "outputs": [
    {
     "name": "stderr",
     "output_type": "stream",
     "text": [
      "/Users/lilyn199/opt/anaconda3/lib/python3.8/site-packages/sklearn/utils/validation.py:70: FutureWarning: Pass n_features_to_select=20 as keyword args. From version 1.0 (renaming of 0.25) passing these as positional arguments will result in an error\n",
      "  warnings.warn(f\"Pass {args_msg} as keyword args. From version \"\n"
     ]
    },
    {
     "name": "stdout",
     "output_type": "stream",
     "text": [
      "[ True  True  True  True  True  True  True  True  True  True  True  True\n",
      "  True  True]\n",
      "[1 1 1 1 1 1 1 1 1 1 1 1 1 1]\n"
     ]
    },
    {
     "name": "stderr",
     "output_type": "stream",
     "text": [
      "/Users/lilyn199/opt/anaconda3/lib/python3.8/site-packages/sklearn/linear_model/_logistic.py:763: ConvergenceWarning: lbfgs failed to converge (status=1):\n",
      "STOP: TOTAL NO. of ITERATIONS REACHED LIMIT.\n",
      "\n",
      "Increase the number of iterations (max_iter) or scale the data as shown in:\n",
      "    https://scikit-learn.org/stable/modules/preprocessing.html\n",
      "Please also refer to the documentation for alternative solver options:\n",
      "    https://scikit-learn.org/stable/modules/linear_model.html#logistic-regression\n",
      "  n_iter_i = _check_optimize_result(\n"
     ]
    }
   ],
   "source": [
    "logreg = LogisticRegression()\n",
    "rfe = RFE(logreg, 20)\n",
    "rfe = rfe.fit(X_train, y_train.values.ravel())\n",
    "print(rfe.support_)\n",
    "print(rfe.ranking_)"
   ]
  },
  {
   "cell_type": "markdown",
   "metadata": {},
   "source": [
    "From the results above, all features are considered important so we will not need to remove any of them."
   ]
  },
  {
   "cell_type": "code",
   "execution_count": 20,
   "metadata": {},
   "outputs": [
    {
     "name": "stderr",
     "output_type": "stream",
     "text": [
      "/Users/lilyn199/opt/anaconda3/lib/python3.8/site-packages/statsmodels/discrete/discrete_model.py:1747: RuntimeWarning: overflow encountered in exp\n",
      "  return 1/(1+np.exp(-X))\n",
      "/Users/lilyn199/opt/anaconda3/lib/python3.8/site-packages/statsmodels/discrete/discrete_model.py:1800: RuntimeWarning: divide by zero encountered in log\n",
      "  return np.sum(np.log(self.cdf(q*np.dot(X,params))))\n"
     ]
    },
    {
     "name": "stdout",
     "output_type": "stream",
     "text": [
      "Optimization terminated successfully.\n",
      "         Current function value: inf\n",
      "         Iterations 9\n"
     ]
    },
    {
     "name": "stderr",
     "output_type": "stream",
     "text": [
      "/Users/lilyn199/opt/anaconda3/lib/python3.8/site-packages/statsmodels/base/model.py:547: HessianInversionWarning: Inverting hessian failed, no bse or cov_params available\n",
      "  warn('Inverting hessian failed, no bse or cov_params '\n"
     ]
    },
    {
     "name": "stdout",
     "output_type": "stream",
     "text": [
      "                            Results: Logit\n",
      "======================================================================\n",
      "Model:                 Logit               Pseudo R-squared:    inf   \n",
      "Dependent Variable:    Buy                 AIC:                 inf   \n",
      "Date:                  2021-06-09 17:42    BIC:                 inf   \n",
      "No. Observations:      1154596             Log-Likelihood:      -inf  \n",
      "Df Model:              13                  LL-Null:             0.0000\n",
      "Df Residuals:          1154582             LLR p-value:         1.0000\n",
      "Converged:             1.0000              Scale:               1.0000\n",
      "No. Iterations:        9.0000                                         \n",
      "----------------------------------------------------------------------\n",
      "                     Coef.  Std.Err.     z     P>|z|   [0.025   0.975]\n",
      "----------------------------------------------------------------------\n",
      "num_clicks_session  -0.0170   0.0035   -4.8243 0.0000  -0.0238 -0.0101\n",
      "session_length       0.0000   0.0000    3.2503 0.0012   0.0000  0.0001\n",
      "Avg_time_bet_clicks  0.0002   0.0000   12.2732 0.0000   0.0002  0.0003\n",
      "Max_time_bet_clicks  0.0002   0.0000   12.4350 0.0000   0.0002  0.0002\n",
      "unique_items         0.1233   0.0040   30.9088 0.0000   0.1154  0.1311\n",
      "max_click_per_item   0.4071   0.0063   64.2447 0.0000   0.3947  0.4195\n",
      "max_hour            -0.0120   0.0009  -14.0244 0.0000  -0.0137 -0.0104\n",
      "max_day              0.0595   0.0019   30.8611 0.0000   0.0558  0.0633\n",
      "max_month           -0.4238   0.0021 -204.7445 0.0000  -0.4278 -0.4197\n",
      "Avg_item_price       0.0000   0.0000    2.5037 0.0123   0.0000  0.0001\n",
      "Popularity          -3.0173   8.4950   -0.3552 0.7224 -19.6671 13.6325\n",
      "perc_prod_offer     -0.0625   0.0109   -5.7365 0.0000  -0.0839 -0.0412\n",
      "perc_prod_no_cat    -0.1553   0.0303   -5.1220 0.0000  -0.2147 -0.0959\n",
      "perc_prod_pop       -1.6051   0.0219  -73.2333 0.0000  -1.6480 -1.5621\n",
      "======================================================================\n",
      "\n"
     ]
    },
    {
     "name": "stderr",
     "output_type": "stream",
     "text": [
      "/Users/lilyn199/opt/anaconda3/lib/python3.8/site-packages/statsmodels/base/model.py:547: HessianInversionWarning: Inverting hessian failed, no bse or cov_params available\n",
      "  warn('Inverting hessian failed, no bse or cov_params '\n"
     ]
    }
   ],
   "source": [
    "logit_model = sm.Logit(y_train,X_train)\n",
    "result = logit_model.fit()\n",
    "print(result.summary2())"
   ]
  },
  {
   "cell_type": "markdown",
   "metadata": {},
   "source": [
    "As Popularity has p-value greater than 0.05, it is considered insignificant, so we will remove it from our dataset. "
   ]
  },
  {
   "cell_type": "code",
   "execution_count": 21,
   "metadata": {},
   "outputs": [],
   "source": [
    "X_train = X_train.drop(\"Popularity\", axis=1)\n",
    "X_test= X_test.drop(\"Popularity\", axis=1)"
   ]
  },
  {
   "cell_type": "markdown",
   "metadata": {},
   "source": [
    "We then address the issue of class imbalance in our dataset using the Synthetic Minority Over-Sampling Technique (SMOTE), which creates synthetic samples from minor class instead of simply creating copies. It works by randomly chooses one of the K-nearest-neighbours and use it to create similar but randomly tweaked, new observations. \n",
    "\n",
    "There are different opinions over whether we should eliminate features before or after SMOTE. The argument given is that SMOTE can induce bias and it violates the independence assumption as it uses KNN technique, which implies that there are relationships between these features. In our case, we know that these features are somewhat related to each other as they are generated from the same dataset, we chose to apply RFE before SMOTE.  "
   ]
  },
  {
   "cell_type": "code",
   "execution_count": 22,
   "metadata": {},
   "outputs": [
    {
     "name": "stdout",
     "output_type": "stream",
     "text": [
      "length of oversampled data is  2187264\n",
      "Number of no default in oversampled data 1093632\n",
      "Number of default 1093632\n",
      "Proportion of no default data in oversampled data is  0.5\n",
      "Proportion of default data in oversampled data is  0.5\n"
     ]
    }
   ],
   "source": [
    "os = SMOTE(random_state = 42, n_jobs=-1)\n",
    "columns = X_train.columns\n",
    "\n",
    "os_data_X, os_data_y = os.fit_resample(X_train, y_train)\n",
    "os_data_X = pd.DataFrame(data = os_data_X,columns = columns)\n",
    "os_data_y = pd.DataFrame(data = os_data_y,columns = ['Buy'])\n",
    "\n",
    "print(\"length of oversampled data is \",len(os_data_X))\n",
    "print(\"Number of no default in oversampled data\",len(os_data_y[os_data_y['Buy'] == 0]))\n",
    "print(\"Number of default\",len(os_data_y[os_data_y['Buy'] == 1]))\n",
    "print(\"Proportion of no default data in oversampled data is \",len(os_data_y[os_data_y['Buy'] == 0])/len(os_data_X))\n",
    "print(\"Proportion of default data in oversampled data is \",len(os_data_y[os_data_y['Buy'] == 1])/len(os_data_X))"
   ]
  },
  {
   "cell_type": "code",
   "execution_count": 23,
   "metadata": {},
   "outputs": [
    {
     "name": "stderr",
     "output_type": "stream",
     "text": [
      "/Users/lilyn199/opt/anaconda3/lib/python3.8/site-packages/sklearn/utils/validation.py:63: DataConversionWarning: A column-vector y was passed when a 1d array was expected. Please change the shape of y to (n_samples, ), for example using ravel().\n",
      "  return f(*args, **kwargs)\n",
      "/Users/lilyn199/opt/anaconda3/lib/python3.8/site-packages/sklearn/linear_model/_logistic.py:763: ConvergenceWarning: lbfgs failed to converge (status=1):\n",
      "STOP: TOTAL NO. of ITERATIONS REACHED LIMIT.\n",
      "\n",
      "Increase the number of iterations (max_iter) or scale the data as shown in:\n",
      "    https://scikit-learn.org/stable/modules/preprocessing.html\n",
      "Please also refer to the documentation for alternative solver options:\n",
      "    https://scikit-learn.org/stable/modules/linear_model.html#logistic-regression\n",
      "  n_iter_i = _check_optimize_result(\n"
     ]
    },
    {
     "data": {
      "text/plain": [
       "LogisticRegression()"
      ]
     },
     "execution_count": 23,
     "metadata": {},
     "output_type": "execute_result"
    }
   ],
   "source": [
    "logreg = LogisticRegression()\n",
    "logreg.fit(os_data_X, os_data_y)"
   ]
  },
  {
   "cell_type": "code",
   "execution_count": 24,
   "metadata": {},
   "outputs": [],
   "source": [
    "y_pred = logreg.predict(X_test)"
   ]
  },
  {
   "cell_type": "markdown",
   "metadata": {},
   "source": [
    "To analyse the Logistic Regression model performance, we will use the Receiver Operating Characteristic (ROC) Curve to find the optimal threshold as we look to have high recall rates for both class 0 and 1.  "
   ]
  },
  {
   "cell_type": "code",
   "execution_count": 27,
   "metadata": {},
   "outputs": [
    {
     "data": {
      "image/png": "[encoded data removed]",
      "text/plain": [
       "<Figure size 432x288 with 1 Axes>"
      ]
     },
     "metadata": {
      "needs_background": "light"
     },
     "output_type": "display_data"
    }
   ],
   "source": [
    "#Create ROC curve\n",
    "logit_roc_auc = roc_auc_score(y_test, logreg.predict(X_test))\n",
    "fpr, tpr, thresholds = roc_curve(y_test, logreg.predict_proba(X_test)[:,1])\n",
    "plt.figure()\n",
    "plt.plot(fpr, tpr, label='Logistic Regression (area = %0.2f)' % logit_roc_auc)\n",
    "plt.plot([0, 1], [0, 1],'r--')\n",
    "plt.xlim([0.0, 1.0])\n",
    "plt.ylim([0.0, 1.05])\n",
    "plt.xlabel('False Positive Rate')\n",
    "plt.ylabel('True Positive Rate')\n",
    "plt.title('Receiver operating characteristic')\n",
    "plt.legend(loc=\"lower right\")\n",
    "plt.show()"
   ]
  },
  {
   "cell_type": "code",
   "execution_count": 28,
   "metadata": {},
   "outputs": [
    {
     "name": "stdout",
     "output_type": "stream",
     "text": [
      "Threshold value is: 0.4225121912160114\n"
     ]
    }
   ],
   "source": [
    "#Find optimal threshold\n",
    "optimal_idx = np.argmax(tpr - fpr)\n",
    "optimal_threshold = thresholds[optimal_idx]\n",
    "print(\"Threshold value is:\", optimal_threshold)"
   ]
  },
  {
   "cell_type": "code",
   "execution_count": 29,
   "metadata": {},
   "outputs": [
    {
     "data": {
      "text/plain": [
       "(259153, 105566, 6650, 13497)"
      ]
     },
     "execution_count": 29,
     "metadata": {},
     "output_type": "execute_result"
    }
   ],
   "source": [
    "#results based on optimal threshold\n",
    "THRESHOLD = optimal_threshold\n",
    "preds = np.where(logreg.predict_proba(X_test)[:,1] > THRESHOLD, 1, 0)\n",
    "\n",
    "tn, fp, fn, tp = confusion_matrix(y_test, preds).ravel()\n",
    "(tn, fp, fn, tp)"
   ]
  },
  {
   "cell_type": "code",
   "execution_count": 30,
   "metadata": {},
   "outputs": [
    {
     "name": "stdout",
     "output_type": "stream",
     "text": [
      "              precision    recall  f1-score   support\n",
      "\n",
      "           0       0.97      0.71      0.82    364719\n",
      "           1       0.11      0.67      0.19     20147\n",
      "\n",
      "    accuracy                           0.71    384866\n",
      "   macro avg       0.54      0.69      0.51    384866\n",
      "weighted avg       0.93      0.71      0.79    384866\n",
      "\n"
     ]
    }
   ],
   "source": [
    "print(classification_report(y_test, preds))"
   ]
  },
  {
   "cell_type": "markdown",
   "metadata": {},
   "source": [
    "Here, we also tried to optimise the Logistic Regression model by C or regularisation parameter, and penalty term, to see if we can further improve on the results. The larger the value of C, the higher the tolerance for misclassification. "
   ]
  },
  {
   "cell_type": "code",
   "execution_count": 31,
   "metadata": {},
   "outputs": [
    {
     "name": "stderr",
     "output_type": "stream",
     "text": [
      "/Users/lilyn199/opt/anaconda3/lib/python3.8/site-packages/sklearn/model_selection/_search.py:922: UserWarning: One or more of the test scores are non-finite: [0.74828288 0.74828267        nan 0.74828254 0.74828287 0.74828255\n",
      "        nan 0.74828292 0.74828287 0.74828266        nan 0.74828292\n",
      " 0.74828302 0.74828283        nan 0.74828299 0.74828273 0.74828264\n",
      "        nan 0.74828274 0.74828297 0.74828272        nan 0.74828281]\n",
      "  warnings.warn(\n",
      "/Users/lilyn199/opt/anaconda3/lib/python3.8/site-packages/sklearn/utils/validation.py:63: DataConversionWarning: A column-vector y was passed when a 1d array was expected. Please change the shape of y to (n_samples, ), for example using ravel().\n",
      "  return f(*args, **kwargs)\n",
      "/Users/lilyn199/opt/anaconda3/lib/python3.8/site-packages/sklearn/linear_model/_sag.py:328: ConvergenceWarning: The max_iter was reached which means the coef_ did not converge\n",
      "  warnings.warn(\"The max_iter was reached which means \"\n"
     ]
    },
    {
     "data": {
      "text/plain": [
       "LogisticRegression(C=100, solver='saga')"
      ]
     },
     "execution_count": 31,
     "metadata": {},
     "output_type": "execute_result"
    }
   ],
   "source": [
    "params = {\n",
    "    \"C\": [0.1, 1, 10, 100, 500, 1000],\n",
    "    \"penalty\": [\"l2\", \"l1\", \"elasticnet\", \"none\"]\n",
    "}\n",
    "model = LogisticRegression(solver ='saga') #saga supports all penalty and faster for large dataset\n",
    "logreg = GridSearchCV(model, param_grid=params, n_jobs=-1, cv=5, scoring='roc_auc', refit=True)\n",
    "logreg.fit(os_data_X, os_data_y)\n",
    "logreg.best_estimator_"
   ]
  },
  {
   "cell_type": "code",
   "execution_count": 32,
   "metadata": {},
   "outputs": [],
   "source": [
    "y_pred = logreg.predict(X_test)"
   ]
  },
  {
   "cell_type": "code",
   "execution_count": 33,
   "metadata": {},
   "outputs": [
    {
     "data": {
      "image/png": "[encoded data removed]",
      "text/plain": [
       "<Figure size 432x288 with 1 Axes>"
      ]
     },
     "metadata": {
      "needs_background": "light"
     },
     "output_type": "display_data"
    }
   ],
   "source": [
    "#Create ROC curve\n",
    "logit_roc_auc = roc_auc_score(y_test, logreg.predict(X_test))\n",
    "fpr, tpr, thresholds = roc_curve(y_test, logreg.predict_proba(X_test)[:,1])\n",
    "plt.figure()\n",
    "plt.plot(fpr, tpr, label='Logistic Regression (area = %0.2f)' % logit_roc_auc)\n",
    "plt.plot([0, 1], [0, 1],'r--')\n",
    "plt.xlim([0.0, 1.0])\n",
    "plt.ylim([0.0, 1.05])\n",
    "plt.xlabel('False Positive Rate')\n",
    "plt.ylabel('True Positive Rate')\n",
    "plt.title('Receiver operating characteristic')\n",
    "plt.legend(loc=\"lower right\")\n",
    "plt.show()"
   ]
  },
  {
   "cell_type": "code",
   "execution_count": 34,
   "metadata": {},
   "outputs": [
    {
     "name": "stdout",
     "output_type": "stream",
     "text": [
      "Threshold value is: 0.5008915719078164\n"
     ]
    }
   ],
   "source": [
    "#find optimal threshold\n",
    "optimal_idx = np.argmax(tpr - fpr)\n",
    "optimal_threshold = thresholds[optimal_idx]\n",
    "print(\"Threshold value is:\", optimal_threshold)"
   ]
  },
  {
   "cell_type": "code",
   "execution_count": 35,
   "metadata": {},
   "outputs": [
    {
     "data": {
      "text/plain": [
       "(266359, 98360, 6895, 13252)"
      ]
     },
     "execution_count": 35,
     "metadata": {},
     "output_type": "execute_result"
    }
   ],
   "source": [
    "#results based on optimal threshold\n",
    "THRESHOLD = optimal_threshold\n",
    "preds = np.where(logreg.predict_proba(X_test)[:,1] > THRESHOLD, 1, 0)\n",
    "\n",
    "tn, fp, fn, tp = confusion_matrix(y_test, preds).ravel()\n",
    "(tn, fp, fn, tp)"
   ]
  },
  {
   "cell_type": "code",
   "execution_count": 36,
   "metadata": {},
   "outputs": [
    {
     "name": "stdout",
     "output_type": "stream",
     "text": [
      "              precision    recall  f1-score   support\n",
      "\n",
      "           0       0.97      0.73      0.84    364719\n",
      "           1       0.12      0.66      0.20     20147\n",
      "\n",
      "    accuracy                           0.73    384866\n",
      "   macro avg       0.55      0.69      0.52    384866\n",
      "weighted avg       0.93      0.73      0.80    384866\n",
      "\n"
     ]
    }
   ],
   "source": [
    "print(classification_report(y_test, preds))"
   ]
  },
  {
   "cell_type": "markdown",
   "metadata": {},
   "source": [
    "As observed above, the results from our parameters tuning are similar to if we just use the default parameters. Hence, this might not be needed when running on the full dataset given the time it took to tune these parameters on large dataset."
   ]
  },
  {
   "cell_type": "markdown",
   "metadata": {},
   "source": [
    "### 2. XGBoost"
   ]
  },
  {
   "cell_type": "markdown",
   "metadata": {},
   "source": [
    "Next, we tried a gradiant boosting machine learning method called XGBoost (extreme Gradient Boosting), which is an implementation of gradiant boosted decision trees. Boosting is an ensemble method, where models are added consecutively to improve accuracy of the previous ones, and gradient boosting uses gradient descent algorithm to minimise the loss when adding new models. \n",
    "\n",
    "XGBoost is popular as it provides results with high accuracy in both classification and regression problems. Before implementing XGBoost, we will tune 4 of its parameters:\n",
    "1. *n_estimators*: number of estimators when boosting is terminated. \n",
    "2. *max_depth*: maximum depth of a tree. Higher value can make the tree overfit\n",
    "3. *gamma*: minimum loss reduction required to make partition on a leaf node of the tree. the higher value of gamma, the more conservative the algorithm will be\n",
    "\n",
    "To tune these parameters, we will use *GridSearchCV()* which performs exhaustive search over specified parameter values for a model. It works by cross-validating grid-search over parameter grid."
   ]
  },
  {
   "cell_type": "code",
   "execution_count": 73,
   "metadata": {},
   "outputs": [],
   "source": [
    "#splitting data into training and test set\n",
    "X = test.drop(\"Buy\", axis=1)\n",
    "y = test[\"Buy\"]\n",
    "X_train, X_test, y_train, y_test = train_test_split(X, y, test_size=0.25, random_state=42)"
   ]
  },
  {
   "cell_type": "code",
   "execution_count": 74,
   "metadata": {},
   "outputs": [
    {
     "data": {
      "text/plain": [
       "{'n_estimators': 53}"
      ]
     },
     "execution_count": 74,
     "metadata": {},
     "output_type": "execute_result"
    }
   ],
   "source": [
    "## XGB - number of estimators\n",
    "param_test = {'n_estimators': range(1,100,4)}\n",
    "gsearch1 = GridSearchCV(estimator = XGBClassifier(objective='binary:logistic', learning_rate=0.2, scale_pos_weight = 18,\n",
    "                                                  use_label_encoder =False, eval_metric = 'auc'), \n",
    "                        param_grid = param_test, scoring='roc_auc', n_jobs=-1, cv=5)\n",
    "gsearch1.fit(X_train, y_train)\n",
    "gsearch1.best_params_"
   ]
  },
  {
   "cell_type": "code",
   "execution_count": 39,
   "metadata": {},
   "outputs": [
    {
     "data": {
      "text/plain": [
       "{'max_depth': 5}"
      ]
     },
     "execution_count": 39,
     "metadata": {},
     "output_type": "execute_result"
    }
   ],
   "source": [
    "## XGB - maximum tree depth\n",
    "param_test2 = {'max_depth':range(1,10,2)}\n",
    "gsearch2 = GridSearchCV(estimator = XGBClassifier(objective='binary:logistic', scale_pos_weight = 18,\n",
    "                                                  n_estimators = gsearch1.best_params_['n_estimators'], \n",
    "                                                  learning_rate = 0.2, use_label_encoder =False, eval_metric = 'auc'), \n",
    "                        param_grid = param_test2, scoring='roc_auc', n_jobs=-1, cv=5)\n",
    "\n",
    "gsearch2.fit(X_train, y_train)\n",
    "gsearch2.best_params_"
   ]
  },
  {
   "cell_type": "code",
   "execution_count": 40,
   "metadata": {},
   "outputs": [
    {
     "data": {
      "text/plain": [
       "{'gamma': 0.0}"
      ]
     },
     "execution_count": 40,
     "metadata": {},
     "output_type": "execute_result"
    }
   ],
   "source": [
    "#tuning gamma parameter\n",
    "param_test3 = {'gamma': [i/10.0 for i in range(0,5)]} \n",
    "gsearch3 = GridSearchCV(estimator = XGBClassifier(objective='binary:logistic', scale_pos_weight = 18,\n",
    "                                                  n_estimators = gsearch1.best_params_['n_estimators'], \n",
    "                                                  learning_rate = 0.2, use_label_encoder =False, eval_metric = 'auc',\n",
    "                                                  max_depth = gsearch2.best_params_['max_depth']), \n",
    "                        param_grid = param_test3, scoring='roc_auc', n_jobs=-1, cv=5)\n",
    "\n",
    "gsearch3.fit(X_train, y_train)\n",
    "gsearch3.best_params_"
   ]
  },
  {
   "cell_type": "markdown",
   "metadata": {},
   "source": [
    "In our final model, we will also specify the scale_post_weight value, which is the ratio between class 0 and 1 at 18."
   ]
  },
  {
   "cell_type": "code",
   "execution_count": 55,
   "metadata": {},
   "outputs": [
    {
     "data": {
      "text/plain": [
       "XGBClassifier(base_score=0.5, booster='gbtree', colsample_bylevel=1,\n",
       "              colsample_bynode=1, colsample_bytree=1, eval_metric='auc',\n",
       "              gamma=0.0, gpu_id=-1, importance_type='gain',\n",
       "              interaction_constraints='', learning_rate=0.2, max_delta_step=0,\n",
       "              max_depth=5, min_child_weight=1, missing=nan,\n",
       "              monotone_constraints='()', n_estimators=85, n_jobs=-1,\n",
       "              num_parallel_tree=1, random_state=0, reg_alpha=0, reg_lambda=1,\n",
       "              scale_pos_weight=17.98, subsample=1, tree_method='exact',\n",
       "              use_label_encoder=False, validate_parameters=1, verbosity=None)"
      ]
     },
     "execution_count": 55,
     "metadata": {},
     "output_type": "execute_result"
    }
   ],
   "source": [
    "## Tuned model\n",
    "XGB_model = XGBClassifier(objective='binary:logistic', n_estimators = gsearch1.best_params_['n_estimators'], \n",
    "                          max_depth = gsearch2.best_params_['max_depth'],gamma = gsearch3.best_params_['gamma'], \n",
    "                          scale_pos_weight = 18, n_jobs=-1, learning_rate = 0.2, \n",
    "                          #we need to account for imbalance class ratio 1:17.98 using scale_pos_weight\n",
    "                          use_label_encoder =False, eval_metric = 'auc')\n",
    "\n",
    "XGB_model.fit(X_train, y_train)\n",
    "XGB_model_predict = XGB_model.predict(X_test)\n",
    "XGB_model"
   ]
  },
  {
   "cell_type": "code",
   "execution_count": 56,
   "metadata": {},
   "outputs": [
    {
     "name": "stdout",
     "output_type": "stream",
     "text": [
      "XGB Test Accuracy: 0.740161510759589 \n",
      "\n",
      "              precision    recall  f1-score   support\n",
      "\n",
      "           0       0.98      0.74      0.84    364719\n",
      "           1       0.13      0.72      0.22     20147\n",
      "\n",
      "    accuracy                           0.74    384866\n",
      "   macro avg       0.56      0.73      0.53    384866\n",
      "weighted avg       0.93      0.74      0.81    384866\n",
      "\n",
      "[[270429  94290]\n",
      " [  5713  14434]] \n",
      "\n"
     ]
    }
   ],
   "source": [
    "print('XGB Test Accuracy:', accuracy_score(y_test, XGB_model_predict), '\\n')\n",
    "print(classification_report(y_test, XGB_model_predict))\n",
    "print(confusion_matrix(y_test, XGB_model_predict), '\\n')"
   ]
  },
  {
   "cell_type": "markdown",
   "metadata": {},
   "source": [
    "### 3. CatBoost"
   ]
  },
  {
   "cell_type": "markdown",
   "metadata": {},
   "source": [
    "Since XGBoost is performing well, we tried to run another gradient boosting method, called CatBoost, whose performance is often compared with Light GBM and XGBoost. It can in some cases, performs just as well as XGBoost, at a much faster rate (as expected from the cat family). To XGBoost's credit, it is older as was developed in 2014 compared to CatBoost in 2017.\n",
    "\n",
    "To implement CatBoost, we will tune its *iterations* parameter, which is the maximum number of trees. We will also specify the class_weights or ratio between the 2 classes. "
   ]
  },
  {
   "cell_type": "code",
   "execution_count": 7,
   "metadata": {},
   "outputs": [],
   "source": [
    "X = test.drop(\"Buy\", axis=1)\n",
    "y = test[\"Buy\"]\n",
    "X_train, X_test, y_train, y_test = train_test_split(X, y, test_size=0.25, random_state=42)"
   ]
  },
  {
   "cell_type": "code",
   "execution_count": 10,
   "metadata": {
    "collapsed": true
   },
   "outputs": [
    {
     "name": "stdout",
     "output_type": "stream",
     "text": [
      "0:\ttotal: 214ms\tremaining: 31.9s\n",
      "1:\ttotal: 357ms\tremaining: 26.4s\n",
      "2:\ttotal: 539ms\tremaining: 26.4s\n",
      "3:\ttotal: 689ms\tremaining: 25.1s\n",
      "4:\ttotal: 870ms\tremaining: 25.2s\n",
      "5:\ttotal: 1.02s\tremaining: 24.6s\n",
      "6:\ttotal: 1.21s\tremaining: 24.8s\n",
      "7:\ttotal: 1.37s\tremaining: 24.4s\n",
      "8:\ttotal: 1.55s\tremaining: 24.3s\n",
      "9:\ttotal: 1.71s\tremaining: 24s\n",
      "10:\ttotal: 1.9s\tremaining: 24s\n",
      "11:\ttotal: 2.06s\tremaining: 23.7s\n",
      "12:\ttotal: 2.24s\tremaining: 23.6s\n",
      "13:\ttotal: 2.38s\tremaining: 23.1s\n",
      "14:\ttotal: 2.55s\tremaining: 23s\n",
      "15:\ttotal: 2.71s\tremaining: 22.7s\n",
      "16:\ttotal: 2.89s\tremaining: 22.6s\n",
      "17:\ttotal: 3.05s\tremaining: 22.4s\n",
      "18:\ttotal: 3.24s\tremaining: 22.3s\n",
      "19:\ttotal: 3.39s\tremaining: 22s\n",
      "20:\ttotal: 3.57s\tremaining: 21.9s\n",
      "21:\ttotal: 3.73s\tremaining: 21.7s\n",
      "22:\ttotal: 3.92s\tremaining: 21.6s\n",
      "23:\ttotal: 4.08s\tremaining: 21.4s\n",
      "24:\ttotal: 4.25s\tremaining: 21.3s\n",
      "25:\ttotal: 4.4s\tremaining: 21s\n",
      "26:\ttotal: 4.58s\tremaining: 20.9s\n",
      "27:\ttotal: 4.75s\tremaining: 20.7s\n",
      "28:\ttotal: 4.91s\tremaining: 20.5s\n",
      "29:\ttotal: 5.07s\tremaining: 20.3s\n",
      "30:\ttotal: 5.26s\tremaining: 20.2s\n",
      "31:\ttotal: 5.41s\tremaining: 20s\n",
      "32:\ttotal: 5.57s\tremaining: 19.7s\n",
      "33:\ttotal: 5.76s\tremaining: 19.6s\n",
      "34:\ttotal: 5.94s\tremaining: 19.5s\n",
      "35:\ttotal: 6.09s\tremaining: 19.3s\n",
      "36:\ttotal: 6.26s\tremaining: 19.1s\n",
      "37:\ttotal: 6.42s\tremaining: 18.9s\n",
      "38:\ttotal: 6.6s\tremaining: 18.8s\n",
      "39:\ttotal: 6.77s\tremaining: 18.6s\n",
      "40:\ttotal: 6.98s\tremaining: 18.5s\n",
      "41:\ttotal: 7.13s\tremaining: 18.3s\n",
      "42:\ttotal: 7.29s\tremaining: 18.1s\n",
      "43:\ttotal: 7.45s\tremaining: 17.9s\n",
      "44:\ttotal: 7.62s\tremaining: 17.8s\n",
      "45:\ttotal: 7.78s\tremaining: 17.6s\n",
      "46:\ttotal: 7.96s\tremaining: 17.4s\n",
      "47:\ttotal: 8.11s\tremaining: 17.2s\n",
      "48:\ttotal: 8.29s\tremaining: 17.1s\n",
      "49:\ttotal: 8.45s\tremaining: 16.9s\n",
      "50:\ttotal: 8.63s\tremaining: 16.7s\n",
      "51:\ttotal: 8.8s\tremaining: 16.6s\n",
      "52:\ttotal: 8.97s\tremaining: 16.4s\n",
      "53:\ttotal: 9.13s\tremaining: 16.2s\n",
      "54:\ttotal: 9.3s\tremaining: 16.1s\n",
      "55:\ttotal: 9.45s\tremaining: 15.9s\n",
      "56:\ttotal: 9.65s\tremaining: 15.7s\n",
      "57:\ttotal: 9.81s\tremaining: 15.6s\n",
      "58:\ttotal: 9.99s\tremaining: 15.4s\n",
      "59:\ttotal: 10.1s\tremaining: 15.2s\n",
      "60:\ttotal: 10.3s\tremaining: 15s\n",
      "61:\ttotal: 10.4s\tremaining: 14.8s\n",
      "62:\ttotal: 10.6s\tremaining: 14.6s\n",
      "63:\ttotal: 10.8s\tremaining: 14.5s\n",
      "64:\ttotal: 10.9s\tremaining: 14.3s\n",
      "65:\ttotal: 11.1s\tremaining: 14.1s\n",
      "66:\ttotal: 11.3s\tremaining: 13.9s\n",
      "67:\ttotal: 11.4s\tremaining: 13.8s\n",
      "68:\ttotal: 11.6s\tremaining: 13.7s\n",
      "69:\ttotal: 11.8s\tremaining: 13.5s\n",
      "70:\ttotal: 12s\tremaining: 13.3s\n",
      "71:\ttotal: 12.1s\tremaining: 13.1s\n",
      "72:\ttotal: 12.3s\tremaining: 13s\n",
      "73:\ttotal: 12.5s\tremaining: 12.8s\n",
      "74:\ttotal: 12.6s\tremaining: 12.6s\n",
      "75:\ttotal: 12.8s\tremaining: 12.5s\n",
      "76:\ttotal: 13s\tremaining: 12.3s\n",
      "77:\ttotal: 13.2s\tremaining: 12.1s\n",
      "78:\ttotal: 13.3s\tremaining: 12s\n",
      "79:\ttotal: 13.5s\tremaining: 11.8s\n",
      "80:\ttotal: 13.7s\tremaining: 11.7s\n",
      "81:\ttotal: 13.8s\tremaining: 11.5s\n",
      "82:\ttotal: 14s\tremaining: 11.3s\n",
      "83:\ttotal: 14.2s\tremaining: 11.2s\n",
      "84:\ttotal: 14.4s\tremaining: 11s\n",
      "85:\ttotal: 14.6s\tremaining: 10.8s\n",
      "86:\ttotal: 14.7s\tremaining: 10.7s\n",
      "87:\ttotal: 14.9s\tremaining: 10.5s\n",
      "88:\ttotal: 15s\tremaining: 10.3s\n",
      "89:\ttotal: 15.2s\tremaining: 10.1s\n",
      "90:\ttotal: 15.4s\tremaining: 9.96s\n",
      "91:\ttotal: 15.5s\tremaining: 9.79s\n",
      "92:\ttotal: 15.7s\tremaining: 9.64s\n",
      "93:\ttotal: 15.9s\tremaining: 9.46s\n",
      "94:\ttotal: 16s\tremaining: 9.29s\n",
      "95:\ttotal: 16.2s\tremaining: 9.12s\n",
      "96:\ttotal: 16.4s\tremaining: 8.95s\n",
      "97:\ttotal: 16.5s\tremaining: 8.77s\n",
      "98:\ttotal: 16.7s\tremaining: 8.62s\n",
      "99:\ttotal: 16.9s\tremaining: 8.44s\n",
      "100:\ttotal: 17.1s\tremaining: 8.27s\n",
      "101:\ttotal: 17.2s\tremaining: 8.11s\n",
      "102:\ttotal: 17.5s\tremaining: 7.97s\n",
      "103:\ttotal: 17.6s\tremaining: 7.8s\n",
      "104:\ttotal: 17.8s\tremaining: 7.63s\n",
      "105:\ttotal: 18s\tremaining: 7.46s\n",
      "106:\ttotal: 18.2s\tremaining: 7.31s\n",
      "107:\ttotal: 18.4s\tremaining: 7.14s\n",
      "108:\ttotal: 18.5s\tremaining: 6.97s\n",
      "109:\ttotal: 18.7s\tremaining: 6.8s\n",
      "110:\ttotal: 18.9s\tremaining: 6.63s\n",
      "111:\ttotal: 19s\tremaining: 6.46s\n",
      "112:\ttotal: 19.2s\tremaining: 6.28s\n",
      "113:\ttotal: 19.4s\tremaining: 6.12s\n",
      "114:\ttotal: 19.6s\tremaining: 5.97s\n",
      "115:\ttotal: 19.8s\tremaining: 5.8s\n",
      "116:\ttotal: 19.9s\tremaining: 5.63s\n",
      "117:\ttotal: 20.1s\tremaining: 5.45s\n",
      "118:\ttotal: 20.3s\tremaining: 5.28s\n",
      "119:\ttotal: 20.4s\tremaining: 5.1s\n",
      "120:\ttotal: 20.6s\tremaining: 4.93s\n",
      "121:\ttotal: 20.7s\tremaining: 4.76s\n",
      "122:\ttotal: 20.9s\tremaining: 4.59s\n",
      "123:\ttotal: 21.1s\tremaining: 4.42s\n",
      "124:\ttotal: 21.2s\tremaining: 4.25s\n",
      "125:\ttotal: 21.4s\tremaining: 4.07s\n",
      "126:\ttotal: 21.6s\tremaining: 3.9s\n",
      "127:\ttotal: 21.7s\tremaining: 3.73s\n",
      "128:\ttotal: 21.9s\tremaining: 3.56s\n",
      "129:\ttotal: 22.1s\tremaining: 3.39s\n",
      "130:\ttotal: 22.2s\tremaining: 3.22s\n",
      "131:\ttotal: 22.4s\tremaining: 3.05s\n",
      "132:\ttotal: 22.5s\tremaining: 2.88s\n",
      "133:\ttotal: 22.7s\tremaining: 2.71s\n",
      "134:\ttotal: 22.9s\tremaining: 2.54s\n",
      "135:\ttotal: 23s\tremaining: 2.37s\n",
      "136:\ttotal: 23.2s\tremaining: 2.2s\n",
      "137:\ttotal: 23.3s\tremaining: 2.03s\n",
      "138:\ttotal: 23.5s\tremaining: 1.86s\n",
      "139:\ttotal: 23.7s\tremaining: 1.69s\n",
      "140:\ttotal: 23.8s\tremaining: 1.52s\n",
      "141:\ttotal: 23.9s\tremaining: 1.35s\n",
      "142:\ttotal: 24.1s\tremaining: 1.18s\n",
      "143:\ttotal: 24.3s\tremaining: 1.01s\n",
      "144:\ttotal: 24.4s\tremaining: 842ms\n",
      "145:\ttotal: 24.6s\tremaining: 673ms\n",
      "146:\ttotal: 24.8s\tremaining: 505ms\n",
      "147:\ttotal: 24.9s\tremaining: 337ms\n",
      "148:\ttotal: 25.1s\tremaining: 168ms\n",
      "149:\ttotal: 25.3s\tremaining: 0us\n"
     ]
    }
   ],
   "source": [
    "params = {'iterations': range(50, 500, 50)}\n",
    "\n",
    "model = CatBoostClassifier(eval_metric='AUC', learning_rate = 0.2, class_weights=[1, 18])\n",
    "ctb = GridSearchCV(model, param_grid=params, cv=5, n_jobs=-1, scoring ='roc_auc', refit =True)\n",
    "ctb.fit(X_train, y_train)\n",
    "y_pred = ctb.predict(X_test)"
   ]
  },
  {
   "cell_type": "code",
   "execution_count": 11,
   "metadata": {},
   "outputs": [
    {
     "name": "stdout",
     "output_type": "stream",
     "text": [
      "{'nan_mode': 'Min', 'eval_metric': 'AUC', 'iterations': 150, 'sampling_frequency': 'PerTree', 'leaf_estimation_method': 'Newton', 'grow_policy': 'SymmetricTree', 'penalties_coefficient': 1, 'boosting_type': 'Plain', 'model_shrink_mode': 'Constant', 'feature_border_type': 'GreedyLogSum', 'bayesian_matrix_reg': 0.10000000149011612, 'l2_leaf_reg': 3, 'random_strength': 1, 'rsm': 1, 'boost_from_average': False, 'model_size_reg': 0.5, 'pool_metainfo_options': {'tags': {}}, 'subsample': 0.800000011920929, 'use_best_model': False, 'class_names': [0, 1], 'random_seed': 0, 'depth': 6, 'posterior_sampling': False, 'border_count': 254, 'class_weights': [1, 18], 'classes_count': 0, 'auto_class_weights': 'None', 'sparse_features_conflict_fraction': 0, 'leaf_estimation_backtracking': 'AnyImprovement', 'best_model_min_trees': 1, 'model_shrink_rate': 0, 'min_data_in_leaf': 1, 'loss_function': 'Logloss', 'learning_rate': 0.20000000298023224, 'score_function': 'Cosine', 'task_type': 'CPU', 'leaf_estimation_iterations': 1, 'bootstrap_type': 'MVS', 'max_leaves': 64}\n",
      "              precision    recall  f1-score   support\n",
      "\n",
      "           0       0.98      0.74      0.84    364719\n",
      "           1       0.13      0.72      0.22     20147\n",
      "\n",
      "    accuracy                           0.74    384866\n",
      "   macro avg       0.56      0.73      0.53    384866\n",
      "weighted avg       0.94      0.74      0.81    384866\n",
      " \n",
      "\n"
     ]
    }
   ],
   "source": [
    "print(ctb.best_estimator_.get_all_params())\n",
    "print(classification_report(y_test, y_pred), '\\n')"
   ]
  },
  {
   "cell_type": "code",
   "execution_count": 12,
   "metadata": {},
   "outputs": [
    {
     "data": {
      "text/plain": [
       "(269873, 94846, 5637, 14510)"
      ]
     },
     "execution_count": 12,
     "metadata": {},
     "output_type": "execute_result"
    }
   ],
   "source": [
    "tn, fp, fn, tp = confusion_matrix(y_test, y_pred).ravel()\n",
    "(tn, fp, fn, tp)"
   ]
  },
  {
   "cell_type": "markdown",
   "metadata": {},
   "source": [
    "### 4. Light GBM"
   ]
  },
  {
   "cell_type": "markdown",
   "metadata": {},
   "source": [
    "We apply the Light GBM method to compare its performance to XGBoost and CatBoost. It differs from XGBoost in which it construct trees using Gradient-Based One-Sided Sampling, which is a novel approach to sampling method and as it brings down the complexity in training the decision trees, it subsequently makes the algorithm much faster to run. \n",
    "\n",
    "To implement LightGBM, we will tune 2 of its parameters:\n",
    "1. *n_estimators*: number of boosted trees to fit\n",
    "2. *boosting_type*: boosting types\n",
    "    * 'gbdt': gradient boosting decision tree   \n",
    "    * 'dart': dropouts meet multiple additive regression trees    \n",
    "    * 'goss': gradient-based one-side sampling  \n",
    "    * 'rf': random forest"
   ]
  },
  {
   "cell_type": "code",
   "execution_count": 8,
   "metadata": {},
   "outputs": [],
   "source": [
    "X = test.drop(\"Buy\", axis=1)\n",
    "y = test[\"Buy\"]\n",
    "X_train, X_test, y_train, y_test = train_test_split(X, y, test_size=0.25, random_state=42)"
   ]
  },
  {
   "cell_type": "code",
   "execution_count": 12,
   "metadata": {},
   "outputs": [
    {
     "name": "stderr",
     "output_type": "stream",
     "text": [
      "C:\\Users\\lilya\\anaconda3\\lib\\site-packages\\sklearn\\model_selection\\_search.py:918: UserWarning: One or more of the test scores are non-finite: [0.79979637 0.79960632 0.79885568 0.79775741 0.79672563 0.79559372\n",
      " 0.79429898 0.7931219  0.79194581 0.79975816 0.80093253 0.8011798\n",
      " 0.80152488 0.80147421 0.80136437 0.80120152 0.80103931 0.80073234\n",
      " 0.79980574 0.79936134 0.79836386 0.7969707  0.79558737 0.79406084\n",
      " 0.79255793 0.79120326 0.78968477        nan        nan        nan\n",
      "        nan        nan        nan        nan        nan        nan]\n",
      "  warnings.warn(\n"
     ]
    }
   ],
   "source": [
    "params = {'n_estimators': range(50, 500, 50),\n",
    "         'boosting_type': ['gbdt', 'dart', 'goss', 'rf']}\n",
    "\n",
    "model = LGBMClassifier(objective='binary', learning_rate = 0.2, scale_pos_weight=18)\n",
    "lgbm = GridSearchCV(model, param_grid=params, cv=5, n_jobs=-1, scoring ='roc_auc', refit =True)\n",
    "lgbm.fit(X_train, y_train)\n",
    "y_pred = lgbm.predict(X_test)"
   ]
  },
  {
   "cell_type": "code",
   "execution_count": 13,
   "metadata": {},
   "outputs": [
    {
     "name": "stdout",
     "output_type": "stream",
     "text": [
      "LGBMClassifier(boosting_type='dart', learning_rate=0.2, n_estimators=200,\n",
      "               objective='binary', scale_pos_weight=18)\n",
      "              precision    recall  f1-score   support\n",
      "\n",
      "           0       0.98      0.74      0.84    364719\n",
      "           1       0.13      0.72      0.22     20147\n",
      "\n",
      "    accuracy                           0.74    384866\n",
      "   macro avg       0.56      0.73      0.53    384866\n",
      "weighted avg       0.94      0.74      0.81    384866\n",
      " \n",
      "\n"
     ]
    }
   ],
   "source": [
    "print(lgbm.best_estimator_)\n",
    "print(classification_report(y_test, y_pred), '\\n')"
   ]
  },
  {
   "cell_type": "code",
   "execution_count": 14,
   "metadata": {},
   "outputs": [
    {
     "data": {
      "text/plain": [
       "(269802, 94917, 5653, 14494)"
      ]
     },
     "execution_count": 14,
     "metadata": {},
     "output_type": "execute_result"
    }
   ],
   "source": [
    "tn, fp, fn, tp = confusion_matrix(y_test, y_pred).ravel()\n",
    "(tn, fp, fn, tp)"
   ]
  },
  {
   "cell_type": "markdown",
   "metadata": {},
   "source": [
    "### 5. Neural Networks"
   ]
  },
  {
   "cell_type": "markdown",
   "metadata": {},
   "source": [
    "Here, we tried Neural Networks method, which is superior at capturing complex relationships between varibles by searching through different models in its black box to find patterns. In its black box, there can be one or more linear or non-linear hidden layers. \n",
    "\n",
    "We will apply SMOTE to the data as there is no parameter to adjust for the imbalanced in data in *MLPClassifier*. Additionally, we need to normalise the data before running neural networks as it is sensitive to feature scaling. We also specify that it will train using 2 hidden layers as 1 or 2 should give a decent performance for most problems, and 14 as number of neurons as we have 14 features in our dataset. "
   ]
  },
  {
   "cell_type": "code",
   "execution_count": 28,
   "metadata": {},
   "outputs": [],
   "source": [
    "X = test.drop(\"Buy\", axis=1)\n",
    "y = test[\"Buy\"]\n",
    "X_train, X_test, y_train, y_test = train_test_split(X, y, test_size=0.25, random_state=42)"
   ]
  },
  {
   "cell_type": "code",
   "execution_count": 29,
   "metadata": {},
   "outputs": [
    {
     "name": "stderr",
     "output_type": "stream",
     "text": [
      "C:\\Users\\lilya\\anaconda3\\lib\\site-packages\\sklearn\\utils\\validation.py:63: DataConversionWarning: A column-vector y was passed when a 1d array was expected. Please change the shape of y to (n_samples, ), for example using ravel().\n",
      "  return f(*args, **kwargs)\n"
     ]
    },
    {
     "data": {
      "text/plain": [
       "MLPClassifier(activation='logistic', alpha=0.1, hidden_layer_sizes=(14, 14),\n",
       "              max_iter=100)"
      ]
     },
     "execution_count": 29,
     "metadata": {},
     "output_type": "execute_result"
    }
   ],
   "source": [
    "os = SMOTE(random_state = 42, n_jobs=-1)\n",
    "columns = X_train.columns\n",
    "\n",
    "os_data_X, os_data_y = os.fit_resample(X_train, y_train)\n",
    "os_data_X = pd.DataFrame(data = os_data_X,columns = columns)\n",
    "os_data_y = pd.DataFrame(data = os_data_y,columns = ['Buy'])\n",
    "scaler = StandardScaler()\n",
    "NN_Xtrain = scaler.fit_transform(os_data_X)\n",
    "NN_Xtest = scaler.transform(X_test)\n",
    "\n",
    "mlp = MLPClassifier(hidden_layer_sizes = (14, 14), max_iter = 100, solver='adam', alpha=0.1, activation='logistic') \n",
    "#2 hidden layers and 'adam' optimizer works well for large dataset\n",
    "mlp.fit(NN_Xtrain, os_data_y)"
   ]
  },
  {
   "cell_type": "code",
   "execution_count": 30,
   "metadata": {},
   "outputs": [
    {
     "name": "stdout",
     "output_type": "stream",
     "text": [
      "              precision    recall  f1-score   support\n",
      "\n",
      "           0       0.96      0.89      0.93    364719\n",
      "           1       0.17      0.39      0.23     20147\n",
      "\n",
      "    accuracy                           0.87    384866\n",
      "   macro avg       0.57      0.64      0.58    384866\n",
      "weighted avg       0.92      0.87      0.89    384866\n",
      "\n",
      "(325689, 39030, 12338, 7809) \n",
      "\n"
     ]
    }
   ],
   "source": [
    "y_preds = mlp.predict(NN_Xtest)\n",
    "print(classification_report(y_test, y_preds))\n",
    "tn, fp, fn, tp = confusion_matrix(y_test, y_preds).ravel()\n",
    "print((tn, fp, fn, tp), '\\n')"
   ]
  },
  {
   "cell_type": "markdown",
   "metadata": {},
   "source": [
    "### 6. Support Vector Machine (SVM)"
   ]
  },
  {
   "cell_type": "markdown",
   "metadata": {},
   "source": [
    "Here, we tried a non-probabilistic classifier called Support Vector Machine (SVM). This method is effective in high dimensional space and can control overfitting using its regularisation term. Additionally, it can use different kernel tricks, like polynomial or radial basis function, to transform non-linear problems to linearly separable cases. \n",
    "\n",
    "*SVC()* from sklearn.svm package only works well for dataset with tens of thousands observations. Since our sample has over 100,000 observations, we will need to use *SGDClassifier()* or *LinearSVC()* instead to implement SVM. Here, we will use *SGDClassifier()* as it is more flexible and faster in some cases than *LinearSVC()*. \n",
    "\n",
    "We will explore different kernel approximations: linear and polynomial as they seem to work well from the results below, thus it's highly unlikely that radial basis function will be a good fit. Since it will take a longer time to tune the parameters using *GridSearchCV*, we will specify the parameters directly as below:\n",
    "1. *max_iter*: the default maximum number of passes over training data is 1000. However, in the interest of time and computer limitations, we will use 100 \n",
    "2. *loss*: we used hinge as it is a loss function typically used for training classifiers\n",
    "3. *penalty*: we used l1 as our regularisation term as it might bring sparsity in our model by shrinking some feature coefficients to 0, which helps reducing its complexity while still reducing the model's variance\n",
    "4. *class_weight*: even though our actual ratio is 1:18, after testing with a few weights, we found that 1:22 gives us better performance results, which is slightly higher than the original ratio\n",
    "5. *alpha*: given that the default is 0.0001 and the higher the value, the stronger the regularisation, we chose alpha value at 0.01 so that it will penalises more when there is a misclassification"
   ]
  },
  {
   "cell_type": "code",
   "execution_count": 7,
   "metadata": {},
   "outputs": [],
   "source": [
    "X = test.drop(\"Buy\", axis=1)\n",
    "y = test[\"Buy\"]\n",
    "X_train, X_test, y_train, y_test = train_test_split(X, y, test_size=0.25, random_state=42)"
   ]
  },
  {
   "cell_type": "code",
   "execution_count": 49,
   "metadata": {},
   "outputs": [
    {
     "name": "stdout",
     "output_type": "stream",
     "text": [
      "              precision    recall  f1-score   support\n",
      "\n",
      "           0       0.97      0.76      0.85    364719\n",
      "           1       0.13      0.64      0.21     20147\n",
      "\n",
      "    accuracy                           0.75    384866\n",
      "   macro avg       0.55      0.70      0.53    384866\n",
      "weighted avg       0.93      0.75      0.82    384866\n",
      "\n",
      "(276956, 87763, 7206, 12941) \n",
      "\n"
     ]
    }
   ],
   "source": [
    "scaler = StandardScaler()\n",
    "SVM_Xtrain = scaler.fit_transform(X_train)\n",
    "SVM_Xtest = scaler.transform(X_test)\n",
    "\n",
    "svm = SGDClassifier(max_iter=100, loss='hinge', n_jobs=-1, penalty='l1', alpha = 0.01, class_weight={0: 1, 1: 22})\n",
    "#adjusting class weight to get better balance between recall rates for class 0 and class 1 \n",
    "svm.fit(SVM_Xtrain, y_train)\n",
    "y_preds = svm.predict(SVM_Xtest)\n",
    "print(classification_report(y_test, y_preds))\n",
    "tn, fp, fn, tp = confusion_matrix(y_test, y_preds).ravel()\n",
    "print((tn, fp, fn, tp), '\\n')"
   ]
  },
  {
   "cell_type": "markdown",
   "metadata": {},
   "source": [
    "Here, we will transform the data to 2nd degree polynomial kernel before running *SGDClassifier* as 3rd degree polynomial did not fit well with the data."
   ]
  },
  {
   "cell_type": "code",
   "execution_count": 12,
   "metadata": {},
   "outputs": [],
   "source": [
    "poly_feature = PolynomialCountSketch(degree = 2, n_components = 140) #optimal n_components = 10*n_features\n",
    "SVM_Xtrain = poly_feature.fit_transform(X_train)\n",
    "SVM_Xtest = poly_feature.transform(X_test)"
   ]
  },
  {
   "cell_type": "code",
   "execution_count": 15,
   "metadata": {},
   "outputs": [
    {
     "name": "stdout",
     "output_type": "stream",
     "text": [
      "              precision    recall  f1-score   support\n",
      "\n",
      "           0       0.96      0.64      0.77    364719\n",
      "           1       0.08      0.54      0.14     20147\n",
      "\n",
      "    accuracy                           0.64    384866\n",
      "   macro avg       0.52      0.59      0.45    384866\n",
      "weighted avg       0.92      0.64      0.74    384866\n",
      "\n",
      "(234401, 130318, 9187, 10960) \n",
      "\n"
     ]
    }
   ],
   "source": [
    "svm = SGDClassifier(max_iter=100, loss='hinge', n_jobs=-1, penalty='l1', alpha = 0.01, class_weight={0: 1, 1: 20})\n",
    "#adjust alpha to vary recall rates \n",
    "svm.fit(SVM_Xtrain, y_train)\n",
    "y_preds = svm.predict(SVM_Xtest)\n",
    "print(classification_report(y_test, y_preds))\n",
    "tn, fp, fn, tp = confusion_matrix(y_test, y_preds).ravel()\n",
    "print((tn, fp, fn, tp), '\\n')"
   ]
  },
  {
   "cell_type": "markdown",
   "metadata": {},
   "source": [
    "### 7. Stacking Classifier"
   ]
  },
  {
   "cell_type": "markdown",
   "metadata": {},
   "source": [
    "Stacking is an ensemble method that combines multiple base classification models predictions, then it uses a blending model to combine the prediction of the base models. Stacking can harness the capabilities of different models and improve performance than any single model in the ensemble. The base models can be complex and diverse, while the blending model is often simple as it only needs to provide a smooth interpretation of the predictions output by the base models. \n",
    "\n",
    "Here, we tried a combinations of models to see if we can improve their performances. SVM, CatBoost and Logistic Regression have highest performance from the results earlier. CatBoost was chosen over Light GBM and XGBoost even though they all have the same performance because CatBoost takes the shortest time to train. "
   ]
  },
  {
   "cell_type": "code",
   "execution_count": 5,
   "metadata": {},
   "outputs": [],
   "source": [
    "X = test.drop(\"Buy\", axis=1)\n",
    "y = test[\"Buy\"]\n",
    "X_train, X_test, y_train, y_test = train_test_split(X, y, test_size=0.25, random_state=42)"
   ]
  },
  {
   "cell_type": "code",
   "execution_count": 6,
   "metadata": {},
   "outputs": [
    {
     "name": "stdout",
     "output_type": "stream",
     "text": [
      "              precision    recall  f1-score   support\n",
      "\n",
      "           0       0.95      1.00      0.97    364719\n",
      "           1       0.25      0.00      0.00     20147\n",
      "\n",
      "    accuracy                           0.95    384866\n",
      "   macro avg       0.60      0.50      0.49    384866\n",
      "weighted avg       0.91      0.95      0.92    384866\n",
      "\n"
     ]
    }
   ],
   "source": [
    "estimators = [('svm', make_pipeline(StandardScaler(), \n",
    "                                    SGDClassifier(max_iter=100, loss='hinge', n_jobs=-1, \n",
    "                                                  penalty='l1', alpha = 0.01, class_weight={0: 1, 1: 22}))),\n",
    "              ('ctb', CatBoostClassifier(eval_metric='AUC', learning_rate = 0.2, class_weights=[1, 18], iterations=150)),\n",
    "             ('lg', make_pipeline(StandardScaler(), LogisticRegression(C=1000, solver='saga', class_weight={0: 1, 1:22})))]\n",
    "clf = StackingClassifier(estimators=estimators, final_estimator=LogisticRegression(), cv=5, n_jobs=-1)\n",
    "clf.fit(X_train, y_train)\n",
    "y_pred = clf.predict(X_test)\n",
    "print(classification_report(y_test, y_pred))"
   ]
  },
  {
   "cell_type": "markdown",
   "metadata": {},
   "source": [
    "### Summary"
   ]
  },
  {
   "cell_type": "markdown",
   "metadata": {},
   "source": [
    "As observed above, Logistic Regression, XGBoost, CatBoost, Light GBM, and SVM did well in our sample dataset. Even though Logistic Regression did not do as well as the others mentioned, we will still implement it on our full dataset as it is easy to implement while giving considerably good results. "
   ]
  }
 ],
 "metadata": {
  "kernelspec": {
   "display_name": "Python 3",
   "language": "python",
   "name": "python3"
  },
  "language_info": {
   "codemirror_mode": {
    "name": "ipython",
    "version": 3
   },
   "file_extension": ".py",
   "mimetype": "text/x-python",
   "name": "python",
   "nbconvert_exporter": "python",
   "pygments_lexer": "ipython3",
   "version": "3.8.5"
  }
 },
 "nbformat": 4,
 "nbformat_minor": 4
}
